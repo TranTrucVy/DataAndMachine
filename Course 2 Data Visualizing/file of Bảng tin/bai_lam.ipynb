{
 "cells": [
  {
   "cell_type": "code",
   "execution_count": 1,
   "metadata": {},
   "outputs": [],
   "source": [
    "import numpy as np\n",
    "import pandas as pd\n",
    "import matplotlib.pyplot as plt\n",
    "import seaborn as sb"
   ]
  },
  {
   "cell_type": "code",
   "execution_count": 2,
   "metadata": {},
   "outputs": [],
   "source": [
    "employees = pd.read_excel('employees.xls')"
   ]
  },
  {
   "cell_type": "code",
   "execution_count": 3,
   "metadata": {},
   "outputs": [
    {
     "name": "stdout",
     "output_type": "stream",
     "text": [
      "<class 'pandas.core.frame.DataFrame'>\n",
      "RangeIndex: 107 entries, 0 to 106\n",
      "Data columns (total 11 columns):\n",
      "EMPLOYEE_ID       107 non-null int64\n",
      "FIRST_NAME        107 non-null object\n",
      "LAST_NAME         107 non-null object\n",
      "EMAIL             107 non-null object\n",
      "PHONE_NUMBER      107 non-null object\n",
      "HIRE_DATE         107 non-null object\n",
      "JOB_ID            107 non-null object\n",
      "SALARY            107 non-null int64\n",
      "COMMISSION_PCT    35 non-null float64\n",
      "MANAGER_ID        106 non-null float64\n",
      "DEPARTMENT_ID     106 non-null float64\n",
      "dtypes: float64(3), int64(2), object(6)\n",
      "memory usage: 9.3+ KB\n"
     ]
    }
   ],
   "source": [
    "employees.info()"
   ]
  },
  {
   "cell_type": "code",
   "execution_count": 4,
   "metadata": {},
   "outputs": [
    {
     "data": {
      "text/plain": [
       "(107, 11)"
      ]
     },
     "execution_count": 4,
     "metadata": {},
     "output_type": "execute_result"
    }
   ],
   "source": [
    "employees.shape"
   ]
  },
  {
   "cell_type": "code",
   "execution_count": 5,
   "metadata": {},
   "outputs": [
    {
     "data": {
      "text/html": [
       "<div>\n",
       "<style scoped>\n",
       "    .dataframe tbody tr th:only-of-type {\n",
       "        vertical-align: middle;\n",
       "    }\n",
       "\n",
       "    .dataframe tbody tr th {\n",
       "        vertical-align: top;\n",
       "    }\n",
       "\n",
       "    .dataframe thead th {\n",
       "        text-align: right;\n",
       "    }\n",
       "</style>\n",
       "<table border=\"1\" class=\"dataframe\">\n",
       "  <thead>\n",
       "    <tr style=\"text-align: right;\">\n",
       "      <th></th>\n",
       "      <th>EMPLOYEE_ID</th>\n",
       "      <th>FIRST_NAME</th>\n",
       "      <th>LAST_NAME</th>\n",
       "      <th>EMAIL</th>\n",
       "      <th>PHONE_NUMBER</th>\n",
       "      <th>HIRE_DATE</th>\n",
       "      <th>JOB_ID</th>\n",
       "      <th>SALARY</th>\n",
       "      <th>COMMISSION_PCT</th>\n",
       "      <th>MANAGER_ID</th>\n",
       "      <th>DEPARTMENT_ID</th>\n",
       "    </tr>\n",
       "  </thead>\n",
       "  <tbody>\n",
       "    <tr>\n",
       "      <th>0</th>\n",
       "      <td>100</td>\n",
       "      <td>Steven</td>\n",
       "      <td>King</td>\n",
       "      <td>SKING</td>\n",
       "      <td>515.123.4567</td>\n",
       "      <td>2003-06-17 00:00:00</td>\n",
       "      <td>AD_PRES</td>\n",
       "      <td>24000</td>\n",
       "      <td>NaN</td>\n",
       "      <td>NaN</td>\n",
       "      <td>90.0</td>\n",
       "    </tr>\n",
       "    <tr>\n",
       "      <th>1</th>\n",
       "      <td>101</td>\n",
       "      <td>Neena</td>\n",
       "      <td>Kochhar</td>\n",
       "      <td>NKOCHHAR</td>\n",
       "      <td>515.123.4568</td>\n",
       "      <td>2005-09-21 00:00:00</td>\n",
       "      <td>AD_VP</td>\n",
       "      <td>17000</td>\n",
       "      <td>NaN</td>\n",
       "      <td>100.0</td>\n",
       "      <td>90.0</td>\n",
       "    </tr>\n",
       "    <tr>\n",
       "      <th>2</th>\n",
       "      <td>102</td>\n",
       "      <td>Lex</td>\n",
       "      <td>De Haan</td>\n",
       "      <td>LDEHAAN</td>\n",
       "      <td>515.123.4569</td>\n",
       "      <td>2001-01-13 00:00:00</td>\n",
       "      <td>AD_VP</td>\n",
       "      <td>17000</td>\n",
       "      <td>NaN</td>\n",
       "      <td>100.0</td>\n",
       "      <td>90.0</td>\n",
       "    </tr>\n",
       "    <tr>\n",
       "      <th>3</th>\n",
       "      <td>103</td>\n",
       "      <td>Alexander</td>\n",
       "      <td>Hunold</td>\n",
       "      <td>AHUNOLD</td>\n",
       "      <td>590.423.4567</td>\n",
       "      <td>2006-01-03 00:00:00</td>\n",
       "      <td>IT_PROG</td>\n",
       "      <td>9000</td>\n",
       "      <td>NaN</td>\n",
       "      <td>102.0</td>\n",
       "      <td>60.0</td>\n",
       "    </tr>\n",
       "    <tr>\n",
       "      <th>4</th>\n",
       "      <td>104</td>\n",
       "      <td>Bruce</td>\n",
       "      <td>Ernst</td>\n",
       "      <td>BERNST</td>\n",
       "      <td>590.423.4568</td>\n",
       "      <td>2007-05-21 00:00:00</td>\n",
       "      <td>IT_PROG</td>\n",
       "      <td>6000</td>\n",
       "      <td>NaN</td>\n",
       "      <td>103.0</td>\n",
       "      <td>60.0</td>\n",
       "    </tr>\n",
       "  </tbody>\n",
       "</table>\n",
       "</div>"
      ],
      "text/plain": [
       "   EMPLOYEE_ID FIRST_NAME LAST_NAME     EMAIL  PHONE_NUMBER  \\\n",
       "0          100     Steven      King     SKING  515.123.4567   \n",
       "1          101      Neena   Kochhar  NKOCHHAR  515.123.4568   \n",
       "2          102        Lex   De Haan   LDEHAAN  515.123.4569   \n",
       "3          103  Alexander    Hunold   AHUNOLD  590.423.4567   \n",
       "4          104      Bruce     Ernst    BERNST  590.423.4568   \n",
       "\n",
       "             HIRE_DATE   JOB_ID  SALARY  COMMISSION_PCT  MANAGER_ID  \\\n",
       "0  2003-06-17 00:00:00  AD_PRES   24000             NaN         NaN   \n",
       "1  2005-09-21 00:00:00    AD_VP   17000             NaN       100.0   \n",
       "2  2001-01-13 00:00:00    AD_VP   17000             NaN       100.0   \n",
       "3  2006-01-03 00:00:00  IT_PROG    9000             NaN       102.0   \n",
       "4  2007-05-21 00:00:00  IT_PROG    6000             NaN       103.0   \n",
       "\n",
       "   DEPARTMENT_ID  \n",
       "0           90.0  \n",
       "1           90.0  \n",
       "2           90.0  \n",
       "3           60.0  \n",
       "4           60.0  "
      ]
     },
     "execution_count": 5,
     "metadata": {},
     "output_type": "execute_result"
    }
   ],
   "source": [
    "employees.head()"
   ]
  },
  {
   "cell_type": "code",
   "execution_count": 6,
   "metadata": {},
   "outputs": [
    {
     "name": "stdout",
     "output_type": "stream",
     "text": [
      "WARNING *** OLE2 inconsistency: SSCS size is 0 but SSAT size is non-zero\n"
     ]
    }
   ],
   "source": [
    "departments = pd.read_excel('departments.xls')"
   ]
  },
  {
   "cell_type": "code",
   "execution_count": 7,
   "metadata": {},
   "outputs": [
    {
     "name": "stdout",
     "output_type": "stream",
     "text": [
      "<class 'pandas.core.frame.DataFrame'>\n",
      "RangeIndex: 27 entries, 0 to 26\n",
      "Data columns (total 4 columns):\n",
      "DEPARTMENT_ID      27 non-null int64\n",
      "DEPARTMENT_NAME    27 non-null object\n",
      "MANAGER_ID         11 non-null float64\n",
      "LOCATION_ID        27 non-null int64\n",
      "dtypes: float64(1), int64(2), object(1)\n",
      "memory usage: 992.0+ bytes\n"
     ]
    }
   ],
   "source": [
    "departments.info()"
   ]
  },
  {
   "cell_type": "code",
   "execution_count": 8,
   "metadata": {},
   "outputs": [
    {
     "data": {
      "text/plain": [
       "(27, 4)"
      ]
     },
     "execution_count": 8,
     "metadata": {},
     "output_type": "execute_result"
    }
   ],
   "source": [
    "departments.shape"
   ]
  },
  {
   "cell_type": "code",
   "execution_count": 9,
   "metadata": {},
   "outputs": [
    {
     "data": {
      "text/html": [
       "<div>\n",
       "<style scoped>\n",
       "    .dataframe tbody tr th:only-of-type {\n",
       "        vertical-align: middle;\n",
       "    }\n",
       "\n",
       "    .dataframe tbody tr th {\n",
       "        vertical-align: top;\n",
       "    }\n",
       "\n",
       "    .dataframe thead th {\n",
       "        text-align: right;\n",
       "    }\n",
       "</style>\n",
       "<table border=\"1\" class=\"dataframe\">\n",
       "  <thead>\n",
       "    <tr style=\"text-align: right;\">\n",
       "      <th></th>\n",
       "      <th>DEPARTMENT_ID</th>\n",
       "      <th>DEPARTMENT_NAME</th>\n",
       "      <th>MANAGER_ID</th>\n",
       "      <th>LOCATION_ID</th>\n",
       "    </tr>\n",
       "  </thead>\n",
       "  <tbody>\n",
       "    <tr>\n",
       "      <th>0</th>\n",
       "      <td>10</td>\n",
       "      <td>Administration</td>\n",
       "      <td>200.0</td>\n",
       "      <td>1700</td>\n",
       "    </tr>\n",
       "    <tr>\n",
       "      <th>1</th>\n",
       "      <td>20</td>\n",
       "      <td>Marketing</td>\n",
       "      <td>201.0</td>\n",
       "      <td>1800</td>\n",
       "    </tr>\n",
       "    <tr>\n",
       "      <th>2</th>\n",
       "      <td>30</td>\n",
       "      <td>Purchasing</td>\n",
       "      <td>114.0</td>\n",
       "      <td>1700</td>\n",
       "    </tr>\n",
       "    <tr>\n",
       "      <th>3</th>\n",
       "      <td>40</td>\n",
       "      <td>Human Resources</td>\n",
       "      <td>203.0</td>\n",
       "      <td>2400</td>\n",
       "    </tr>\n",
       "    <tr>\n",
       "      <th>4</th>\n",
       "      <td>50</td>\n",
       "      <td>Shipping</td>\n",
       "      <td>121.0</td>\n",
       "      <td>1500</td>\n",
       "    </tr>\n",
       "  </tbody>\n",
       "</table>\n",
       "</div>"
      ],
      "text/plain": [
       "   DEPARTMENT_ID  DEPARTMENT_NAME  MANAGER_ID  LOCATION_ID\n",
       "0             10   Administration       200.0         1700\n",
       "1             20        Marketing       201.0         1800\n",
       "2             30       Purchasing       114.0         1700\n",
       "3             40  Human Resources       203.0         2400\n",
       "4             50         Shipping       121.0         1500"
      ]
     },
     "execution_count": 9,
     "metadata": {},
     "output_type": "execute_result"
    }
   ],
   "source": [
    "departments.head()"
   ]
  },
  {
   "cell_type": "code",
   "execution_count": 10,
   "metadata": {},
   "outputs": [
    {
     "name": "stdout",
     "output_type": "stream",
     "text": [
      "WARNING *** OLE2 inconsistency: SSCS size is 0 but SSAT size is non-zero\n"
     ]
    }
   ],
   "source": [
    "jobs = pd.read_excel('jobs.xls')"
   ]
  },
  {
   "cell_type": "code",
   "execution_count": 11,
   "metadata": {},
   "outputs": [
    {
     "name": "stdout",
     "output_type": "stream",
     "text": [
      "<class 'pandas.core.frame.DataFrame'>\n",
      "RangeIndex: 19 entries, 0 to 18\n",
      "Data columns (total 4 columns):\n",
      "JOB_ID        19 non-null object\n",
      "JOB_TITLE     19 non-null object\n",
      "MIN_SALARY    19 non-null int64\n",
      "MAX_SALARY    19 non-null int64\n",
      "dtypes: int64(2), object(2)\n",
      "memory usage: 736.0+ bytes\n"
     ]
    }
   ],
   "source": [
    "jobs.info()"
   ]
  },
  {
   "cell_type": "code",
   "execution_count": 12,
   "metadata": {},
   "outputs": [
    {
     "data": {
      "text/plain": [
       "(19, 4)"
      ]
     },
     "execution_count": 12,
     "metadata": {},
     "output_type": "execute_result"
    }
   ],
   "source": [
    "jobs.shape"
   ]
  },
  {
   "cell_type": "code",
   "execution_count": 13,
   "metadata": {},
   "outputs": [
    {
     "data": {
      "text/html": [
       "<div>\n",
       "<style scoped>\n",
       "    .dataframe tbody tr th:only-of-type {\n",
       "        vertical-align: middle;\n",
       "    }\n",
       "\n",
       "    .dataframe tbody tr th {\n",
       "        vertical-align: top;\n",
       "    }\n",
       "\n",
       "    .dataframe thead th {\n",
       "        text-align: right;\n",
       "    }\n",
       "</style>\n",
       "<table border=\"1\" class=\"dataframe\">\n",
       "  <thead>\n",
       "    <tr style=\"text-align: right;\">\n",
       "      <th></th>\n",
       "      <th>JOB_ID</th>\n",
       "      <th>JOB_TITLE</th>\n",
       "      <th>MIN_SALARY</th>\n",
       "      <th>MAX_SALARY</th>\n",
       "    </tr>\n",
       "  </thead>\n",
       "  <tbody>\n",
       "    <tr>\n",
       "      <th>0</th>\n",
       "      <td>AC_ACCOUNT</td>\n",
       "      <td>Public Accountant</td>\n",
       "      <td>4200</td>\n",
       "      <td>9000</td>\n",
       "    </tr>\n",
       "    <tr>\n",
       "      <th>1</th>\n",
       "      <td>AC_MGR</td>\n",
       "      <td>Accounting Manager</td>\n",
       "      <td>8200</td>\n",
       "      <td>16000</td>\n",
       "    </tr>\n",
       "    <tr>\n",
       "      <th>2</th>\n",
       "      <td>AD_ASST</td>\n",
       "      <td>Administration Assistant</td>\n",
       "      <td>3000</td>\n",
       "      <td>6000</td>\n",
       "    </tr>\n",
       "    <tr>\n",
       "      <th>3</th>\n",
       "      <td>AD_PRES</td>\n",
       "      <td>President</td>\n",
       "      <td>20080</td>\n",
       "      <td>40000</td>\n",
       "    </tr>\n",
       "    <tr>\n",
       "      <th>4</th>\n",
       "      <td>AD_VP</td>\n",
       "      <td>Administration Vice President</td>\n",
       "      <td>15000</td>\n",
       "      <td>30000</td>\n",
       "    </tr>\n",
       "  </tbody>\n",
       "</table>\n",
       "</div>"
      ],
      "text/plain": [
       "       JOB_ID                      JOB_TITLE  MIN_SALARY  MAX_SALARY\n",
       "0  AC_ACCOUNT              Public Accountant        4200        9000\n",
       "1      AC_MGR             Accounting Manager        8200       16000\n",
       "2     AD_ASST       Administration Assistant        3000        6000\n",
       "3     AD_PRES                      President       20080       40000\n",
       "4       AD_VP  Administration Vice President       15000       30000"
      ]
     },
     "execution_count": 13,
     "metadata": {},
     "output_type": "execute_result"
    }
   ],
   "source": [
    "jobs.head()"
   ]
  },
  {
   "cell_type": "code",
   "execution_count": 14,
   "metadata": {},
   "outputs": [],
   "source": [
    "emp = employees[['EMPLOYEE_ID','FIRST_NAME','LAST_NAME','HIRE_DATE','SALARY','DEPARTMENT_ID','JOB_ID']]"
   ]
  },
  {
   "cell_type": "code",
   "execution_count": 15,
   "metadata": {},
   "outputs": [
    {
     "data": {
      "text/html": [
       "<div>\n",
       "<style scoped>\n",
       "    .dataframe tbody tr th:only-of-type {\n",
       "        vertical-align: middle;\n",
       "    }\n",
       "\n",
       "    .dataframe tbody tr th {\n",
       "        vertical-align: top;\n",
       "    }\n",
       "\n",
       "    .dataframe thead th {\n",
       "        text-align: right;\n",
       "    }\n",
       "</style>\n",
       "<table border=\"1\" class=\"dataframe\">\n",
       "  <thead>\n",
       "    <tr style=\"text-align: right;\">\n",
       "      <th></th>\n",
       "      <th>EMPLOYEE_ID</th>\n",
       "      <th>FIRST_NAME</th>\n",
       "      <th>LAST_NAME</th>\n",
       "      <th>HIRE_DATE</th>\n",
       "      <th>SALARY</th>\n",
       "      <th>DEPARTMENT_ID</th>\n",
       "      <th>JOB_ID</th>\n",
       "    </tr>\n",
       "  </thead>\n",
       "  <tbody>\n",
       "    <tr>\n",
       "      <th>0</th>\n",
       "      <td>100</td>\n",
       "      <td>Steven</td>\n",
       "      <td>King</td>\n",
       "      <td>2003-06-17 00:00:00</td>\n",
       "      <td>24000</td>\n",
       "      <td>90.0</td>\n",
       "      <td>AD_PRES</td>\n",
       "    </tr>\n",
       "    <tr>\n",
       "      <th>1</th>\n",
       "      <td>101</td>\n",
       "      <td>Neena</td>\n",
       "      <td>Kochhar</td>\n",
       "      <td>2005-09-21 00:00:00</td>\n",
       "      <td>17000</td>\n",
       "      <td>90.0</td>\n",
       "      <td>AD_VP</td>\n",
       "    </tr>\n",
       "    <tr>\n",
       "      <th>2</th>\n",
       "      <td>102</td>\n",
       "      <td>Lex</td>\n",
       "      <td>De Haan</td>\n",
       "      <td>2001-01-13 00:00:00</td>\n",
       "      <td>17000</td>\n",
       "      <td>90.0</td>\n",
       "      <td>AD_VP</td>\n",
       "    </tr>\n",
       "    <tr>\n",
       "      <th>3</th>\n",
       "      <td>103</td>\n",
       "      <td>Alexander</td>\n",
       "      <td>Hunold</td>\n",
       "      <td>2006-01-03 00:00:00</td>\n",
       "      <td>9000</td>\n",
       "      <td>60.0</td>\n",
       "      <td>IT_PROG</td>\n",
       "    </tr>\n",
       "    <tr>\n",
       "      <th>4</th>\n",
       "      <td>104</td>\n",
       "      <td>Bruce</td>\n",
       "      <td>Ernst</td>\n",
       "      <td>2007-05-21 00:00:00</td>\n",
       "      <td>6000</td>\n",
       "      <td>60.0</td>\n",
       "      <td>IT_PROG</td>\n",
       "    </tr>\n",
       "  </tbody>\n",
       "</table>\n",
       "</div>"
      ],
      "text/plain": [
       "   EMPLOYEE_ID FIRST_NAME LAST_NAME            HIRE_DATE  SALARY  \\\n",
       "0          100     Steven      King  2003-06-17 00:00:00   24000   \n",
       "1          101      Neena   Kochhar  2005-09-21 00:00:00   17000   \n",
       "2          102        Lex   De Haan  2001-01-13 00:00:00   17000   \n",
       "3          103  Alexander    Hunold  2006-01-03 00:00:00    9000   \n",
       "4          104      Bruce     Ernst  2007-05-21 00:00:00    6000   \n",
       "\n",
       "   DEPARTMENT_ID   JOB_ID  \n",
       "0           90.0  AD_PRES  \n",
       "1           90.0    AD_VP  \n",
       "2           90.0    AD_VP  \n",
       "3           60.0  IT_PROG  \n",
       "4           60.0  IT_PROG  "
      ]
     },
     "execution_count": 15,
     "metadata": {},
     "output_type": "execute_result"
    }
   ],
   "source": [
    "emp.head()"
   ]
  },
  {
   "cell_type": "code",
   "execution_count": 16,
   "metadata": {},
   "outputs": [],
   "source": [
    "emp = emp.merge(departments[['DEPARTMENT_ID','DEPARTMENT_NAME']], on='DEPARTMENT_ID', how='left')"
   ]
  },
  {
   "cell_type": "code",
   "execution_count": 17,
   "metadata": {},
   "outputs": [
    {
     "data": {
      "text/html": [
       "<div>\n",
       "<style scoped>\n",
       "    .dataframe tbody tr th:only-of-type {\n",
       "        vertical-align: middle;\n",
       "    }\n",
       "\n",
       "    .dataframe tbody tr th {\n",
       "        vertical-align: top;\n",
       "    }\n",
       "\n",
       "    .dataframe thead th {\n",
       "        text-align: right;\n",
       "    }\n",
       "</style>\n",
       "<table border=\"1\" class=\"dataframe\">\n",
       "  <thead>\n",
       "    <tr style=\"text-align: right;\">\n",
       "      <th></th>\n",
       "      <th>EMPLOYEE_ID</th>\n",
       "      <th>FIRST_NAME</th>\n",
       "      <th>LAST_NAME</th>\n",
       "      <th>HIRE_DATE</th>\n",
       "      <th>SALARY</th>\n",
       "      <th>DEPARTMENT_ID</th>\n",
       "      <th>JOB_ID</th>\n",
       "      <th>DEPARTMENT_NAME</th>\n",
       "    </tr>\n",
       "  </thead>\n",
       "  <tbody>\n",
       "    <tr>\n",
       "      <th>0</th>\n",
       "      <td>100</td>\n",
       "      <td>Steven</td>\n",
       "      <td>King</td>\n",
       "      <td>2003-06-17 00:00:00</td>\n",
       "      <td>24000</td>\n",
       "      <td>90.0</td>\n",
       "      <td>AD_PRES</td>\n",
       "      <td>Executive</td>\n",
       "    </tr>\n",
       "    <tr>\n",
       "      <th>1</th>\n",
       "      <td>101</td>\n",
       "      <td>Neena</td>\n",
       "      <td>Kochhar</td>\n",
       "      <td>2005-09-21 00:00:00</td>\n",
       "      <td>17000</td>\n",
       "      <td>90.0</td>\n",
       "      <td>AD_VP</td>\n",
       "      <td>Executive</td>\n",
       "    </tr>\n",
       "    <tr>\n",
       "      <th>2</th>\n",
       "      <td>102</td>\n",
       "      <td>Lex</td>\n",
       "      <td>De Haan</td>\n",
       "      <td>2001-01-13 00:00:00</td>\n",
       "      <td>17000</td>\n",
       "      <td>90.0</td>\n",
       "      <td>AD_VP</td>\n",
       "      <td>Executive</td>\n",
       "    </tr>\n",
       "    <tr>\n",
       "      <th>3</th>\n",
       "      <td>103</td>\n",
       "      <td>Alexander</td>\n",
       "      <td>Hunold</td>\n",
       "      <td>2006-01-03 00:00:00</td>\n",
       "      <td>9000</td>\n",
       "      <td>60.0</td>\n",
       "      <td>IT_PROG</td>\n",
       "      <td>IT</td>\n",
       "    </tr>\n",
       "    <tr>\n",
       "      <th>4</th>\n",
       "      <td>104</td>\n",
       "      <td>Bruce</td>\n",
       "      <td>Ernst</td>\n",
       "      <td>2007-05-21 00:00:00</td>\n",
       "      <td>6000</td>\n",
       "      <td>60.0</td>\n",
       "      <td>IT_PROG</td>\n",
       "      <td>IT</td>\n",
       "    </tr>\n",
       "  </tbody>\n",
       "</table>\n",
       "</div>"
      ],
      "text/plain": [
       "   EMPLOYEE_ID FIRST_NAME LAST_NAME            HIRE_DATE  SALARY  \\\n",
       "0          100     Steven      King  2003-06-17 00:00:00   24000   \n",
       "1          101      Neena   Kochhar  2005-09-21 00:00:00   17000   \n",
       "2          102        Lex   De Haan  2001-01-13 00:00:00   17000   \n",
       "3          103  Alexander    Hunold  2006-01-03 00:00:00    9000   \n",
       "4          104      Bruce     Ernst  2007-05-21 00:00:00    6000   \n",
       "\n",
       "   DEPARTMENT_ID   JOB_ID DEPARTMENT_NAME  \n",
       "0           90.0  AD_PRES       Executive  \n",
       "1           90.0    AD_VP       Executive  \n",
       "2           90.0    AD_VP       Executive  \n",
       "3           60.0  IT_PROG              IT  \n",
       "4           60.0  IT_PROG              IT  "
      ]
     },
     "execution_count": 17,
     "metadata": {},
     "output_type": "execute_result"
    }
   ],
   "source": [
    "emp.head()"
   ]
  },
  {
   "cell_type": "code",
   "execution_count": 18,
   "metadata": {},
   "outputs": [],
   "source": [
    "emp = emp.merge(jobs[['JOB_ID','JOB_TITLE']], on='JOB_ID', how='inner')"
   ]
  },
  {
   "cell_type": "code",
   "execution_count": 19,
   "metadata": {},
   "outputs": [
    {
     "data": {
      "text/html": [
       "<div>\n",
       "<style scoped>\n",
       "    .dataframe tbody tr th:only-of-type {\n",
       "        vertical-align: middle;\n",
       "    }\n",
       "\n",
       "    .dataframe tbody tr th {\n",
       "        vertical-align: top;\n",
       "    }\n",
       "\n",
       "    .dataframe thead th {\n",
       "        text-align: right;\n",
       "    }\n",
       "</style>\n",
       "<table border=\"1\" class=\"dataframe\">\n",
       "  <thead>\n",
       "    <tr style=\"text-align: right;\">\n",
       "      <th></th>\n",
       "      <th>EMPLOYEE_ID</th>\n",
       "      <th>FIRST_NAME</th>\n",
       "      <th>LAST_NAME</th>\n",
       "      <th>HIRE_DATE</th>\n",
       "      <th>SALARY</th>\n",
       "      <th>DEPARTMENT_ID</th>\n",
       "      <th>JOB_ID</th>\n",
       "      <th>DEPARTMENT_NAME</th>\n",
       "      <th>JOB_TITLE</th>\n",
       "    </tr>\n",
       "  </thead>\n",
       "  <tbody>\n",
       "    <tr>\n",
       "      <th>0</th>\n",
       "      <td>100</td>\n",
       "      <td>Steven</td>\n",
       "      <td>King</td>\n",
       "      <td>2003-06-17 00:00:00</td>\n",
       "      <td>24000</td>\n",
       "      <td>90.0</td>\n",
       "      <td>AD_PRES</td>\n",
       "      <td>Executive</td>\n",
       "      <td>President</td>\n",
       "    </tr>\n",
       "    <tr>\n",
       "      <th>1</th>\n",
       "      <td>101</td>\n",
       "      <td>Neena</td>\n",
       "      <td>Kochhar</td>\n",
       "      <td>2005-09-21 00:00:00</td>\n",
       "      <td>17000</td>\n",
       "      <td>90.0</td>\n",
       "      <td>AD_VP</td>\n",
       "      <td>Executive</td>\n",
       "      <td>Administration Vice President</td>\n",
       "    </tr>\n",
       "    <tr>\n",
       "      <th>2</th>\n",
       "      <td>102</td>\n",
       "      <td>Lex</td>\n",
       "      <td>De Haan</td>\n",
       "      <td>2001-01-13 00:00:00</td>\n",
       "      <td>17000</td>\n",
       "      <td>90.0</td>\n",
       "      <td>AD_VP</td>\n",
       "      <td>Executive</td>\n",
       "      <td>Administration Vice President</td>\n",
       "    </tr>\n",
       "    <tr>\n",
       "      <th>3</th>\n",
       "      <td>103</td>\n",
       "      <td>Alexander</td>\n",
       "      <td>Hunold</td>\n",
       "      <td>2006-01-03 00:00:00</td>\n",
       "      <td>9000</td>\n",
       "      <td>60.0</td>\n",
       "      <td>IT_PROG</td>\n",
       "      <td>IT</td>\n",
       "      <td>Programmer</td>\n",
       "    </tr>\n",
       "    <tr>\n",
       "      <th>4</th>\n",
       "      <td>104</td>\n",
       "      <td>Bruce</td>\n",
       "      <td>Ernst</td>\n",
       "      <td>2007-05-21 00:00:00</td>\n",
       "      <td>6000</td>\n",
       "      <td>60.0</td>\n",
       "      <td>IT_PROG</td>\n",
       "      <td>IT</td>\n",
       "      <td>Programmer</td>\n",
       "    </tr>\n",
       "  </tbody>\n",
       "</table>\n",
       "</div>"
      ],
      "text/plain": [
       "   EMPLOYEE_ID FIRST_NAME LAST_NAME            HIRE_DATE  SALARY  \\\n",
       "0          100     Steven      King  2003-06-17 00:00:00   24000   \n",
       "1          101      Neena   Kochhar  2005-09-21 00:00:00   17000   \n",
       "2          102        Lex   De Haan  2001-01-13 00:00:00   17000   \n",
       "3          103  Alexander    Hunold  2006-01-03 00:00:00    9000   \n",
       "4          104      Bruce     Ernst  2007-05-21 00:00:00    6000   \n",
       "\n",
       "   DEPARTMENT_ID   JOB_ID DEPARTMENT_NAME                      JOB_TITLE  \n",
       "0           90.0  AD_PRES       Executive                      President  \n",
       "1           90.0    AD_VP       Executive  Administration Vice President  \n",
       "2           90.0    AD_VP       Executive  Administration Vice President  \n",
       "3           60.0  IT_PROG              IT                     Programmer  \n",
       "4           60.0  IT_PROG              IT                     Programmer  "
      ]
     },
     "execution_count": 19,
     "metadata": {},
     "output_type": "execute_result"
    }
   ],
   "source": [
    "emp.head()"
   ]
  },
  {
   "cell_type": "code",
   "execution_count": 22,
   "metadata": {},
   "outputs": [
    {
     "data": {
      "text/html": [
       "<div>\n",
       "<style scoped>\n",
       "    .dataframe tbody tr th:only-of-type {\n",
       "        vertical-align: middle;\n",
       "    }\n",
       "\n",
       "    .dataframe tbody tr th {\n",
       "        vertical-align: top;\n",
       "    }\n",
       "\n",
       "    .dataframe thead th {\n",
       "        text-align: right;\n",
       "    }\n",
       "</style>\n",
       "<table border=\"1\" class=\"dataframe\">\n",
       "  <thead>\n",
       "    <tr style=\"text-align: right;\">\n",
       "      <th></th>\n",
       "      <th>EMPLOYEE_ID</th>\n",
       "      <th>FIRST_NAME</th>\n",
       "      <th>LAST_NAME</th>\n",
       "      <th>HIRE_DATE</th>\n",
       "      <th>SALARY</th>\n",
       "      <th>DEPARTMENT_ID</th>\n",
       "      <th>JOB_ID</th>\n",
       "      <th>DEPARTMENT_NAME</th>\n",
       "      <th>JOB_TITLE</th>\n",
       "    </tr>\n",
       "  </thead>\n",
       "  <tbody>\n",
       "    <tr>\n",
       "      <th>1</th>\n",
       "      <td>101</td>\n",
       "      <td>Neena</td>\n",
       "      <td>Kochhar</td>\n",
       "      <td>2005-09-21 00:00:00</td>\n",
       "      <td>17000</td>\n",
       "      <td>90.0</td>\n",
       "      <td>AD_VP</td>\n",
       "      <td>Executive</td>\n",
       "      <td>Administration Vice President</td>\n",
       "    </tr>\n",
       "    <tr>\n",
       "      <th>2</th>\n",
       "      <td>102</td>\n",
       "      <td>Lex</td>\n",
       "      <td>De Haan</td>\n",
       "      <td>2001-01-13 00:00:00</td>\n",
       "      <td>17000</td>\n",
       "      <td>90.0</td>\n",
       "      <td>AD_VP</td>\n",
       "      <td>Executive</td>\n",
       "      <td>Administration Vice President</td>\n",
       "    </tr>\n",
       "    <tr>\n",
       "      <th>0</th>\n",
       "      <td>100</td>\n",
       "      <td>Steven</td>\n",
       "      <td>King</td>\n",
       "      <td>2003-06-17 00:00:00</td>\n",
       "      <td>24000</td>\n",
       "      <td>90.0</td>\n",
       "      <td>AD_PRES</td>\n",
       "      <td>Executive</td>\n",
       "      <td>President</td>\n",
       "    </tr>\n",
       "    <tr>\n",
       "      <th>32</th>\n",
       "      <td>132</td>\n",
       "      <td>TJ</td>\n",
       "      <td>Olson</td>\n",
       "      <td>2007-04-10 00:00:00</td>\n",
       "      <td>2100</td>\n",
       "      <td>50.0</td>\n",
       "      <td>ST_CLERK</td>\n",
       "      <td>Shipping</td>\n",
       "      <td>Stock Clerk</td>\n",
       "    </tr>\n",
       "    <tr>\n",
       "      <th>28</th>\n",
       "      <td>128</td>\n",
       "      <td>Steven</td>\n",
       "      <td>Markle</td>\n",
       "      <td>2008-03-08 00:00:00</td>\n",
       "      <td>2200</td>\n",
       "      <td>50.0</td>\n",
       "      <td>ST_CLERK</td>\n",
       "      <td>Shipping</td>\n",
       "      <td>Stock Clerk</td>\n",
       "    </tr>\n",
       "  </tbody>\n",
       "</table>\n",
       "</div>"
      ],
      "text/plain": [
       "    EMPLOYEE_ID FIRST_NAME LAST_NAME            HIRE_DATE  SALARY  \\\n",
       "1           101      Neena   Kochhar  2005-09-21 00:00:00   17000   \n",
       "2           102        Lex   De Haan  2001-01-13 00:00:00   17000   \n",
       "0           100     Steven      King  2003-06-17 00:00:00   24000   \n",
       "32          132         TJ     Olson  2007-04-10 00:00:00    2100   \n",
       "28          128     Steven    Markle  2008-03-08 00:00:00    2200   \n",
       "\n",
       "    DEPARTMENT_ID    JOB_ID DEPARTMENT_NAME                      JOB_TITLE  \n",
       "1            90.0     AD_VP       Executive  Administration Vice President  \n",
       "2            90.0     AD_VP       Executive  Administration Vice President  \n",
       "0            90.0   AD_PRES       Executive                      President  \n",
       "32           50.0  ST_CLERK        Shipping                    Stock Clerk  \n",
       "28           50.0  ST_CLERK        Shipping                    Stock Clerk  "
      ]
     },
     "execution_count": 22,
     "metadata": {},
     "output_type": "execute_result"
    }
   ],
   "source": [
    "emp[(emp['DEPARTMENT_ID']==50) | (emp['DEPARTMENT_ID']==90)].sort_values(by=['DEPARTMENT_ID','SALARY'], \n",
    "                                                                         ascending=[False,True]).head()"
   ]
  },
  {
   "cell_type": "code",
   "execution_count": 24,
   "metadata": {},
   "outputs": [
    {
     "data": {
      "text/html": [
       "<div>\n",
       "<style scoped>\n",
       "    .dataframe tbody tr th:only-of-type {\n",
       "        vertical-align: middle;\n",
       "    }\n",
       "\n",
       "    .dataframe tbody tr th {\n",
       "        vertical-align: top;\n",
       "    }\n",
       "\n",
       "    .dataframe thead th {\n",
       "        text-align: right;\n",
       "    }\n",
       "</style>\n",
       "<table border=\"1\" class=\"dataframe\">\n",
       "  <thead>\n",
       "    <tr style=\"text-align: right;\">\n",
       "      <th></th>\n",
       "      <th>DEPARTMENT_ID</th>\n",
       "      <th>DEPARTMENT_NAME</th>\n",
       "      <th>SALARY</th>\n",
       "    </tr>\n",
       "  </thead>\n",
       "  <tbody>\n",
       "    <tr>\n",
       "      <th>7</th>\n",
       "      <td>80.0</td>\n",
       "      <td>Sales</td>\n",
       "      <td>304500</td>\n",
       "    </tr>\n",
       "  </tbody>\n",
       "</table>\n",
       "</div>"
      ],
      "text/plain": [
       "   DEPARTMENT_ID DEPARTMENT_NAME  SALARY\n",
       "7           80.0           Sales  304500"
      ]
     },
     "execution_count": 24,
     "metadata": {},
     "output_type": "execute_result"
    }
   ],
   "source": [
    "emp.groupby(['DEPARTMENT_ID','DEPARTMENT_NAME']).SALARY.sum().reset_index().sort_values(by='SALARY', ascending=False).head(1)"
   ]
  },
  {
   "cell_type": "code",
   "execution_count": 21,
   "metadata": {},
   "outputs": [
    {
     "data": {
      "text/html": [
       "<div>\n",
       "<style scoped>\n",
       "    .dataframe tbody tr th:only-of-type {\n",
       "        vertical-align: middle;\n",
       "    }\n",
       "\n",
       "    .dataframe tbody tr th {\n",
       "        vertical-align: top;\n",
       "    }\n",
       "\n",
       "    .dataframe thead th {\n",
       "        text-align: right;\n",
       "    }\n",
       "</style>\n",
       "<table border=\"1\" class=\"dataframe\">\n",
       "  <thead>\n",
       "    <tr style=\"text-align: right;\">\n",
       "      <th></th>\n",
       "      <th>EMPLOYEE_ID</th>\n",
       "      <th>FIRST_NAME</th>\n",
       "      <th>LAST_NAME</th>\n",
       "      <th>HIRE_DATE</th>\n",
       "      <th>SALARY</th>\n",
       "      <th>DEPARTMENT_ID</th>\n",
       "      <th>JOB_ID</th>\n",
       "      <th>DEPARTMENT_NAME</th>\n",
       "      <th>JOB_TITLE</th>\n",
       "    </tr>\n",
       "  </thead>\n",
       "  <tbody>\n",
       "    <tr>\n",
       "      <th>55</th>\n",
       "      <td>155</td>\n",
       "      <td>Oliver</td>\n",
       "      <td>Tuvault</td>\n",
       "      <td>2007-11-23 00:00:00</td>\n",
       "      <td>7000</td>\n",
       "      <td>80.0</td>\n",
       "      <td>SA_REP</td>\n",
       "      <td>Sales</td>\n",
       "      <td>Sales Representative</td>\n",
       "    </tr>\n",
       "    <tr>\n",
       "      <th>61</th>\n",
       "      <td>161</td>\n",
       "      <td>Sarath</td>\n",
       "      <td>Sewall</td>\n",
       "      <td>2006-11-03 00:00:00</td>\n",
       "      <td>7000</td>\n",
       "      <td>80.0</td>\n",
       "      <td>SA_REP</td>\n",
       "      <td>Sales</td>\n",
       "      <td>Sales Representative</td>\n",
       "    </tr>\n",
       "    <tr>\n",
       "      <th>65</th>\n",
       "      <td>165</td>\n",
       "      <td>David</td>\n",
       "      <td>Lee</td>\n",
       "      <td>2008-02-23 00:00:00</td>\n",
       "      <td>6800</td>\n",
       "      <td>80.0</td>\n",
       "      <td>SA_REP</td>\n",
       "      <td>Sales</td>\n",
       "      <td>Sales Representative</td>\n",
       "    </tr>\n",
       "    <tr>\n",
       "      <th>66</th>\n",
       "      <td>166</td>\n",
       "      <td>Sundar</td>\n",
       "      <td>Ande</td>\n",
       "      <td>2008-03-24 00:00:00</td>\n",
       "      <td>6400</td>\n",
       "      <td>80.0</td>\n",
       "      <td>SA_REP</td>\n",
       "      <td>Sales</td>\n",
       "      <td>Sales Representative</td>\n",
       "    </tr>\n",
       "    <tr>\n",
       "      <th>67</th>\n",
       "      <td>167</td>\n",
       "      <td>Amit</td>\n",
       "      <td>Banda</td>\n",
       "      <td>2008-04-21 00:00:00</td>\n",
       "      <td>6200</td>\n",
       "      <td>80.0</td>\n",
       "      <td>SA_REP</td>\n",
       "      <td>Sales</td>\n",
       "      <td>Sales Representative</td>\n",
       "    </tr>\n",
       "    <tr>\n",
       "      <th>73</th>\n",
       "      <td>173</td>\n",
       "      <td>Sundita</td>\n",
       "      <td>Kumar</td>\n",
       "      <td>2008-04-21 00:00:00</td>\n",
       "      <td>6100</td>\n",
       "      <td>80.0</td>\n",
       "      <td>SA_REP</td>\n",
       "      <td>Sales</td>\n",
       "      <td>Sales Representative</td>\n",
       "    </tr>\n",
       "    <tr>\n",
       "      <th>79</th>\n",
       "      <td>179</td>\n",
       "      <td>Charles</td>\n",
       "      <td>Johnson</td>\n",
       "      <td>2008-01-04 00:00:00</td>\n",
       "      <td>6200</td>\n",
       "      <td>80.0</td>\n",
       "      <td>SA_REP</td>\n",
       "      <td>Sales</td>\n",
       "      <td>Sales Representative</td>\n",
       "    </tr>\n",
       "  </tbody>\n",
       "</table>\n",
       "</div>"
      ],
      "text/plain": [
       "    EMPLOYEE_ID FIRST_NAME LAST_NAME            HIRE_DATE  SALARY  \\\n",
       "55          155     Oliver   Tuvault  2007-11-23 00:00:00    7000   \n",
       "61          161     Sarath    Sewall  2006-11-03 00:00:00    7000   \n",
       "65          165      David       Lee  2008-02-23 00:00:00    6800   \n",
       "66          166     Sundar      Ande  2008-03-24 00:00:00    6400   \n",
       "67          167       Amit     Banda  2008-04-21 00:00:00    6200   \n",
       "73          173    Sundita     Kumar  2008-04-21 00:00:00    6100   \n",
       "79          179    Charles   Johnson  2008-01-04 00:00:00    6200   \n",
       "\n",
       "    DEPARTMENT_ID  JOB_ID DEPARTMENT_NAME             JOB_TITLE  \n",
       "55           80.0  SA_REP           Sales  Sales Representative  \n",
       "61           80.0  SA_REP           Sales  Sales Representative  \n",
       "65           80.0  SA_REP           Sales  Sales Representative  \n",
       "66           80.0  SA_REP           Sales  Sales Representative  \n",
       "67           80.0  SA_REP           Sales  Sales Representative  \n",
       "73           80.0  SA_REP           Sales  Sales Representative  \n",
       "79           80.0  SA_REP           Sales  Sales Representative  "
      ]
     },
     "execution_count": 21,
     "metadata": {},
     "output_type": "execute_result"
    }
   ],
   "source": [
    "emp[(emp['DEPARTMENT_NAME']=='Sales') & (emp['SALARY']>=5000) & (emp['SALARY']<=7000)]"
   ]
  },
  {
   "cell_type": "code",
   "execution_count": 22,
   "metadata": {},
   "outputs": [
    {
     "data": {
      "text/html": [
       "<div>\n",
       "<style scoped>\n",
       "    .dataframe tbody tr th:only-of-type {\n",
       "        vertical-align: middle;\n",
       "    }\n",
       "\n",
       "    .dataframe tbody tr th {\n",
       "        vertical-align: top;\n",
       "    }\n",
       "\n",
       "    .dataframe thead th {\n",
       "        text-align: right;\n",
       "    }\n",
       "</style>\n",
       "<table border=\"1\" class=\"dataframe\">\n",
       "  <thead>\n",
       "    <tr style=\"text-align: right;\">\n",
       "      <th></th>\n",
       "      <th>EMPLOYEE_ID</th>\n",
       "      <th>FIRST_NAME</th>\n",
       "      <th>LAST_NAME</th>\n",
       "      <th>HIRE_DATE</th>\n",
       "      <th>SALARY</th>\n",
       "      <th>DEPARTMENT_ID</th>\n",
       "      <th>JOB_ID</th>\n",
       "      <th>DEPARTMENT_NAME</th>\n",
       "      <th>JOB_TITLE</th>\n",
       "    </tr>\n",
       "  </thead>\n",
       "  <tbody>\n",
       "    <tr>\n",
       "      <th>78</th>\n",
       "      <td>178</td>\n",
       "      <td>Kimberely</td>\n",
       "      <td>Grant</td>\n",
       "      <td>2007-05-24 00:00:00</td>\n",
       "      <td>7000</td>\n",
       "      <td>NaN</td>\n",
       "      <td>SA_REP</td>\n",
       "      <td>NaN</td>\n",
       "      <td>Sales Representative</td>\n",
       "    </tr>\n",
       "  </tbody>\n",
       "</table>\n",
       "</div>"
      ],
      "text/plain": [
       "    EMPLOYEE_ID FIRST_NAME LAST_NAME            HIRE_DATE  SALARY  \\\n",
       "78          178  Kimberely     Grant  2007-05-24 00:00:00    7000   \n",
       "\n",
       "    DEPARTMENT_ID  JOB_ID DEPARTMENT_NAME             JOB_TITLE  \n",
       "78            NaN  SA_REP             NaN  Sales Representative  "
      ]
     },
     "execution_count": 22,
     "metadata": {},
     "output_type": "execute_result"
    }
   ],
   "source": [
    "emp[emp['DEPARTMENT_ID'].isna()]"
   ]
  },
  {
   "cell_type": "code",
   "execution_count": 23,
   "metadata": {},
   "outputs": [
    {
     "data": {
      "text/plain": [
       "count      107.000000\n",
       "mean      6461.831776\n",
       "std       3909.579731\n",
       "min       2100.000000\n",
       "25%       3100.000000\n",
       "50%       6200.000000\n",
       "75%       8900.000000\n",
       "max      24000.000000\n",
       "Name: SALARY, dtype: float64"
      ]
     },
     "execution_count": 23,
     "metadata": {},
     "output_type": "execute_result"
    }
   ],
   "source": [
    "emp['SALARY'].describe()"
   ]
  },
  {
   "cell_type": "code",
   "execution_count": 24,
   "metadata": {},
   "outputs": [
    {
     "name": "stdout",
     "output_type": "stream",
     "text": [
      "Average of Salary: 6461.8317757009345\n"
     ]
    }
   ],
   "source": [
    "avg_sal = emp['SALARY'].mean()\n",
    "print('Average of Salary:', avg_sal)"
   ]
  },
  {
   "cell_type": "code",
   "execution_count": 25,
   "metadata": {},
   "outputs": [],
   "source": [
    "df = emp[emp['SALARY']>avg_sal][['EMPLOYEE_ID','FIRST_NAME','LAST_NAME','SALARY','DEPARTMENT_NAME','JOB_TITLE']]"
   ]
  },
  {
   "cell_type": "code",
   "execution_count": 26,
   "metadata": {},
   "outputs": [],
   "source": [
    "df.sort_values(by=['DEPARTMENT_NAME','SALARY'], ascending=[True,False], inplace=True)"
   ]
  },
  {
   "cell_type": "code",
   "execution_count": 27,
   "metadata": {},
   "outputs": [
    {
     "data": {
      "text/html": [
       "<div>\n",
       "<style scoped>\n",
       "    .dataframe tbody tr th:only-of-type {\n",
       "        vertical-align: middle;\n",
       "    }\n",
       "\n",
       "    .dataframe tbody tr th {\n",
       "        vertical-align: top;\n",
       "    }\n",
       "\n",
       "    .dataframe thead th {\n",
       "        text-align: right;\n",
       "    }\n",
       "</style>\n",
       "<table border=\"1\" class=\"dataframe\">\n",
       "  <thead>\n",
       "    <tr style=\"text-align: right;\">\n",
       "      <th></th>\n",
       "      <th>EMPLOYEE_ID</th>\n",
       "      <th>FIRST_NAME</th>\n",
       "      <th>LAST_NAME</th>\n",
       "      <th>SALARY</th>\n",
       "      <th>DEPARTMENT_NAME</th>\n",
       "      <th>JOB_TITLE</th>\n",
       "    </tr>\n",
       "  </thead>\n",
       "  <tbody>\n",
       "    <tr>\n",
       "      <th>0</th>\n",
       "      <td>205</td>\n",
       "      <td>Shelley</td>\n",
       "      <td>Higgins</td>\n",
       "      <td>12008</td>\n",
       "      <td>Accounting</td>\n",
       "      <td>Accounting Manager</td>\n",
       "    </tr>\n",
       "    <tr>\n",
       "      <th>1</th>\n",
       "      <td>206</td>\n",
       "      <td>William</td>\n",
       "      <td>Gietz</td>\n",
       "      <td>8300</td>\n",
       "      <td>Accounting</td>\n",
       "      <td>Public Accountant</td>\n",
       "    </tr>\n",
       "    <tr>\n",
       "      <th>2</th>\n",
       "      <td>100</td>\n",
       "      <td>Steven</td>\n",
       "      <td>King</td>\n",
       "      <td>24000</td>\n",
       "      <td>Executive</td>\n",
       "      <td>President</td>\n",
       "    </tr>\n",
       "    <tr>\n",
       "      <th>3</th>\n",
       "      <td>101</td>\n",
       "      <td>Neena</td>\n",
       "      <td>Kochhar</td>\n",
       "      <td>17000</td>\n",
       "      <td>Executive</td>\n",
       "      <td>Administration Vice President</td>\n",
       "    </tr>\n",
       "    <tr>\n",
       "      <th>4</th>\n",
       "      <td>102</td>\n",
       "      <td>Lex</td>\n",
       "      <td>De Haan</td>\n",
       "      <td>17000</td>\n",
       "      <td>Executive</td>\n",
       "      <td>Administration Vice President</td>\n",
       "    </tr>\n",
       "    <tr>\n",
       "      <th>5</th>\n",
       "      <td>108</td>\n",
       "      <td>Nancy</td>\n",
       "      <td>Greenberg</td>\n",
       "      <td>12008</td>\n",
       "      <td>Finance</td>\n",
       "      <td>Finance Manager</td>\n",
       "    </tr>\n",
       "    <tr>\n",
       "      <th>6</th>\n",
       "      <td>109</td>\n",
       "      <td>Daniel</td>\n",
       "      <td>Faviet</td>\n",
       "      <td>9000</td>\n",
       "      <td>Finance</td>\n",
       "      <td>Accountant</td>\n",
       "    </tr>\n",
       "    <tr>\n",
       "      <th>7</th>\n",
       "      <td>110</td>\n",
       "      <td>John</td>\n",
       "      <td>Chen</td>\n",
       "      <td>8200</td>\n",
       "      <td>Finance</td>\n",
       "      <td>Accountant</td>\n",
       "    </tr>\n",
       "    <tr>\n",
       "      <th>8</th>\n",
       "      <td>112</td>\n",
       "      <td>Jose Manuel</td>\n",
       "      <td>Urman</td>\n",
       "      <td>7800</td>\n",
       "      <td>Finance</td>\n",
       "      <td>Accountant</td>\n",
       "    </tr>\n",
       "    <tr>\n",
       "      <th>9</th>\n",
       "      <td>111</td>\n",
       "      <td>Ismael</td>\n",
       "      <td>Sciarra</td>\n",
       "      <td>7700</td>\n",
       "      <td>Finance</td>\n",
       "      <td>Accountant</td>\n",
       "    </tr>\n",
       "  </tbody>\n",
       "</table>\n",
       "</div>"
      ],
      "text/plain": [
       "   EMPLOYEE_ID   FIRST_NAME  LAST_NAME  SALARY DEPARTMENT_NAME  \\\n",
       "0          205      Shelley    Higgins   12008      Accounting   \n",
       "1          206      William      Gietz    8300      Accounting   \n",
       "2          100       Steven       King   24000       Executive   \n",
       "3          101        Neena    Kochhar   17000       Executive   \n",
       "4          102          Lex    De Haan   17000       Executive   \n",
       "5          108        Nancy  Greenberg   12008         Finance   \n",
       "6          109       Daniel     Faviet    9000         Finance   \n",
       "7          110         John       Chen    8200         Finance   \n",
       "8          112  Jose Manuel      Urman    7800         Finance   \n",
       "9          111       Ismael    Sciarra    7700         Finance   \n",
       "\n",
       "                       JOB_TITLE  \n",
       "0             Accounting Manager  \n",
       "1              Public Accountant  \n",
       "2                      President  \n",
       "3  Administration Vice President  \n",
       "4  Administration Vice President  \n",
       "5                Finance Manager  \n",
       "6                     Accountant  \n",
       "7                     Accountant  \n",
       "8                     Accountant  \n",
       "9                     Accountant  "
      ]
     },
     "execution_count": 27,
     "metadata": {},
     "output_type": "execute_result"
    }
   ],
   "source": [
    "df.reset_index(inplace=True, drop=True)\n",
    "df.head(10)"
   ]
  },
  {
   "cell_type": "code",
   "execution_count": 28,
   "metadata": {},
   "outputs": [
    {
     "data": {
      "text/html": [
       "<div>\n",
       "<style scoped>\n",
       "    .dataframe tbody tr th:only-of-type {\n",
       "        vertical-align: middle;\n",
       "    }\n",
       "\n",
       "    .dataframe tbody tr th {\n",
       "        vertical-align: top;\n",
       "    }\n",
       "\n",
       "    .dataframe thead th {\n",
       "        text-align: right;\n",
       "    }\n",
       "</style>\n",
       "<table border=\"1\" class=\"dataframe\">\n",
       "  <thead>\n",
       "    <tr style=\"text-align: right;\">\n",
       "      <th></th>\n",
       "      <th>EMPLOYEE_ID</th>\n",
       "      <th>FIRST_NAME</th>\n",
       "      <th>LAST_NAME</th>\n",
       "      <th>HIRE_DATE</th>\n",
       "      <th>SALARY</th>\n",
       "      <th>DEPARTMENT_ID</th>\n",
       "      <th>JOB_ID</th>\n",
       "      <th>DEPARTMENT_NAME</th>\n",
       "      <th>JOB_TITLE</th>\n",
       "    </tr>\n",
       "  </thead>\n",
       "  <tbody>\n",
       "    <tr>\n",
       "      <th>0</th>\n",
       "      <td>100</td>\n",
       "      <td>Steven</td>\n",
       "      <td>King</td>\n",
       "      <td>2003-06-17 00:00:00</td>\n",
       "      <td>24000</td>\n",
       "      <td>90.0</td>\n",
       "      <td>AD_PRES</td>\n",
       "      <td>Executive</td>\n",
       "      <td>President</td>\n",
       "    </tr>\n",
       "  </tbody>\n",
       "</table>\n",
       "</div>"
      ],
      "text/plain": [
       "   EMPLOYEE_ID FIRST_NAME LAST_NAME            HIRE_DATE  SALARY  \\\n",
       "0          100     Steven      King  2003-06-17 00:00:00   24000   \n",
       "\n",
       "   DEPARTMENT_ID   JOB_ID DEPARTMENT_NAME  JOB_TITLE  \n",
       "0           90.0  AD_PRES       Executive  President  "
      ]
     },
     "execution_count": 28,
     "metadata": {},
     "output_type": "execute_result"
    }
   ],
   "source": [
    "emp[emp['SALARY']==emp['SALARY'].max()]"
   ]
  },
  {
   "cell_type": "code",
   "execution_count": 29,
   "metadata": {},
   "outputs": [
    {
     "data": {
      "text/html": [
       "<div>\n",
       "<style scoped>\n",
       "    .dataframe tbody tr th:only-of-type {\n",
       "        vertical-align: middle;\n",
       "    }\n",
       "\n",
       "    .dataframe tbody tr th {\n",
       "        vertical-align: top;\n",
       "    }\n",
       "\n",
       "    .dataframe thead th {\n",
       "        text-align: right;\n",
       "    }\n",
       "</style>\n",
       "<table border=\"1\" class=\"dataframe\">\n",
       "  <thead>\n",
       "    <tr style=\"text-align: right;\">\n",
       "      <th></th>\n",
       "      <th>EMPLOYEE_ID</th>\n",
       "      <th>FIRST_NAME</th>\n",
       "      <th>LAST_NAME</th>\n",
       "      <th>HIRE_DATE</th>\n",
       "      <th>SALARY</th>\n",
       "      <th>DEPARTMENT_ID</th>\n",
       "      <th>JOB_ID</th>\n",
       "      <th>DEPARTMENT_NAME</th>\n",
       "      <th>JOB_TITLE</th>\n",
       "    </tr>\n",
       "  </thead>\n",
       "  <tbody>\n",
       "    <tr>\n",
       "      <th>32</th>\n",
       "      <td>132</td>\n",
       "      <td>TJ</td>\n",
       "      <td>Olson</td>\n",
       "      <td>2007-04-10 00:00:00</td>\n",
       "      <td>2100</td>\n",
       "      <td>50.0</td>\n",
       "      <td>ST_CLERK</td>\n",
       "      <td>Shipping</td>\n",
       "      <td>Stock Clerk</td>\n",
       "    </tr>\n",
       "  </tbody>\n",
       "</table>\n",
       "</div>"
      ],
      "text/plain": [
       "    EMPLOYEE_ID FIRST_NAME LAST_NAME            HIRE_DATE  SALARY  \\\n",
       "32          132         TJ     Olson  2007-04-10 00:00:00    2100   \n",
       "\n",
       "    DEPARTMENT_ID    JOB_ID DEPARTMENT_NAME    JOB_TITLE  \n",
       "32           50.0  ST_CLERK        Shipping  Stock Clerk  "
      ]
     },
     "execution_count": 29,
     "metadata": {},
     "output_type": "execute_result"
    }
   ],
   "source": [
    "emp[emp['SALARY']==emp['SALARY'].min()]"
   ]
  },
  {
   "cell_type": "code",
   "execution_count": 37,
   "metadata": {},
   "outputs": [],
   "source": [
    "df_ = pd.merge(emp, emp.groupby('DEPARTMENT_ID').SALARY.max().reset_index().rename(columns={'SALARY':'MAX_SAL'}))[['DEPARTMENT_ID','EMPLOYEE_ID','FIRST_NAME','SALARY','MAX_SAL']]"
   ]
  },
  {
   "cell_type": "code",
   "execution_count": 41,
   "metadata": {},
   "outputs": [
    {
     "data": {
      "text/html": [
       "<div>\n",
       "<style scoped>\n",
       "    .dataframe tbody tr th:only-of-type {\n",
       "        vertical-align: middle;\n",
       "    }\n",
       "\n",
       "    .dataframe tbody tr th {\n",
       "        vertical-align: top;\n",
       "    }\n",
       "\n",
       "    .dataframe thead th {\n",
       "        text-align: right;\n",
       "    }\n",
       "</style>\n",
       "<table border=\"1\" class=\"dataframe\">\n",
       "  <thead>\n",
       "    <tr style=\"text-align: right;\">\n",
       "      <th></th>\n",
       "      <th>EMPLOYEE_ID</th>\n",
       "      <th>FIRST_NAME</th>\n",
       "      <th>SALARY</th>\n",
       "    </tr>\n",
       "    <tr>\n",
       "      <th>DEPARTMENT_ID</th>\n",
       "      <th></th>\n",
       "      <th></th>\n",
       "      <th></th>\n",
       "    </tr>\n",
       "  </thead>\n",
       "  <tbody>\n",
       "    <tr>\n",
       "      <th>10.0</th>\n",
       "      <td>200</td>\n",
       "      <td>Jennifer</td>\n",
       "      <td>4400</td>\n",
       "    </tr>\n",
       "    <tr>\n",
       "      <th>20.0</th>\n",
       "      <td>201</td>\n",
       "      <td>Michael</td>\n",
       "      <td>13000</td>\n",
       "    </tr>\n",
       "    <tr>\n",
       "      <th>30.0</th>\n",
       "      <td>114</td>\n",
       "      <td>Den</td>\n",
       "      <td>11000</td>\n",
       "    </tr>\n",
       "    <tr>\n",
       "      <th>40.0</th>\n",
       "      <td>203</td>\n",
       "      <td>Susan</td>\n",
       "      <td>6500</td>\n",
       "    </tr>\n",
       "    <tr>\n",
       "      <th>50.0</th>\n",
       "      <td>121</td>\n",
       "      <td>Adam</td>\n",
       "      <td>8200</td>\n",
       "    </tr>\n",
       "    <tr>\n",
       "      <th>60.0</th>\n",
       "      <td>103</td>\n",
       "      <td>Alexander</td>\n",
       "      <td>9000</td>\n",
       "    </tr>\n",
       "    <tr>\n",
       "      <th>70.0</th>\n",
       "      <td>204</td>\n",
       "      <td>Hermann</td>\n",
       "      <td>10000</td>\n",
       "    </tr>\n",
       "    <tr>\n",
       "      <th>80.0</th>\n",
       "      <td>145</td>\n",
       "      <td>John</td>\n",
       "      <td>14000</td>\n",
       "    </tr>\n",
       "    <tr>\n",
       "      <th>90.0</th>\n",
       "      <td>100</td>\n",
       "      <td>Steven</td>\n",
       "      <td>24000</td>\n",
       "    </tr>\n",
       "    <tr>\n",
       "      <th>100.0</th>\n",
       "      <td>108</td>\n",
       "      <td>Nancy</td>\n",
       "      <td>12008</td>\n",
       "    </tr>\n",
       "    <tr>\n",
       "      <th>110.0</th>\n",
       "      <td>205</td>\n",
       "      <td>Shelley</td>\n",
       "      <td>12008</td>\n",
       "    </tr>\n",
       "  </tbody>\n",
       "</table>\n",
       "</div>"
      ],
      "text/plain": [
       "               EMPLOYEE_ID FIRST_NAME  SALARY\n",
       "DEPARTMENT_ID                                \n",
       "10.0                   200   Jennifer    4400\n",
       "20.0                   201    Michael   13000\n",
       "30.0                   114        Den   11000\n",
       "40.0                   203      Susan    6500\n",
       "50.0                   121       Adam    8200\n",
       "60.0                   103  Alexander    9000\n",
       "70.0                   204    Hermann   10000\n",
       "80.0                   145       John   14000\n",
       "90.0                   100     Steven   24000\n",
       "100.0                  108      Nancy   12008\n",
       "110.0                  205    Shelley   12008"
      ]
     },
     "execution_count": 41,
     "metadata": {},
     "output_type": "execute_result"
    }
   ],
   "source": [
    "df_[df_['SALARY']==df_['MAX_SAL']].sort_values(by='DEPARTMENT_ID')[['DEPARTMENT_ID','EMPLOYEE_ID','FIRST_NAME','SALARY']].set_index('DEPARTMENT_ID')"
   ]
  },
  {
   "cell_type": "code",
   "execution_count": 30,
   "metadata": {},
   "outputs": [],
   "source": [
    "emp['BONUS'] = emp['SALARY']+500"
   ]
  },
  {
   "cell_type": "code",
   "execution_count": 31,
   "metadata": {},
   "outputs": [
    {
     "data": {
      "text/html": [
       "<div>\n",
       "<style scoped>\n",
       "    .dataframe tbody tr th:only-of-type {\n",
       "        vertical-align: middle;\n",
       "    }\n",
       "\n",
       "    .dataframe tbody tr th {\n",
       "        vertical-align: top;\n",
       "    }\n",
       "\n",
       "    .dataframe thead th {\n",
       "        text-align: right;\n",
       "    }\n",
       "</style>\n",
       "<table border=\"1\" class=\"dataframe\">\n",
       "  <thead>\n",
       "    <tr style=\"text-align: right;\">\n",
       "      <th></th>\n",
       "      <th>EMPLOYEE_ID</th>\n",
       "      <th>FIRST_NAME</th>\n",
       "      <th>SALARY</th>\n",
       "      <th>BONUS</th>\n",
       "    </tr>\n",
       "  </thead>\n",
       "  <tbody>\n",
       "    <tr>\n",
       "      <th>0</th>\n",
       "      <td>100</td>\n",
       "      <td>Steven</td>\n",
       "      <td>24000</td>\n",
       "      <td>24500</td>\n",
       "    </tr>\n",
       "    <tr>\n",
       "      <th>1</th>\n",
       "      <td>101</td>\n",
       "      <td>Neena</td>\n",
       "      <td>17000</td>\n",
       "      <td>17500</td>\n",
       "    </tr>\n",
       "    <tr>\n",
       "      <th>2</th>\n",
       "      <td>102</td>\n",
       "      <td>Lex</td>\n",
       "      <td>17000</td>\n",
       "      <td>17500</td>\n",
       "    </tr>\n",
       "    <tr>\n",
       "      <th>3</th>\n",
       "      <td>103</td>\n",
       "      <td>Alexander</td>\n",
       "      <td>9000</td>\n",
       "      <td>9500</td>\n",
       "    </tr>\n",
       "    <tr>\n",
       "      <th>4</th>\n",
       "      <td>104</td>\n",
       "      <td>Bruce</td>\n",
       "      <td>6000</td>\n",
       "      <td>6500</td>\n",
       "    </tr>\n",
       "  </tbody>\n",
       "</table>\n",
       "</div>"
      ],
      "text/plain": [
       "   EMPLOYEE_ID FIRST_NAME  SALARY  BONUS\n",
       "0          100     Steven   24000  24500\n",
       "1          101      Neena   17000  17500\n",
       "2          102        Lex   17000  17500\n",
       "3          103  Alexander    9000   9500\n",
       "4          104      Bruce    6000   6500"
      ]
     },
     "execution_count": 31,
     "metadata": {},
     "output_type": "execute_result"
    }
   ],
   "source": [
    "emp[['EMPLOYEE_ID','FIRST_NAME','SALARY','BONUS']].head()"
   ]
  },
  {
   "cell_type": "code",
   "execution_count": 32,
   "metadata": {},
   "outputs": [],
   "source": [
    "emp['NAM_VAO_LAM'] = pd.DatetimeIndex(emp['HIRE_DATE']).year"
   ]
  },
  {
   "cell_type": "code",
   "execution_count": 33,
   "metadata": {},
   "outputs": [
    {
     "data": {
      "text/html": [
       "<div>\n",
       "<style scoped>\n",
       "    .dataframe tbody tr th:only-of-type {\n",
       "        vertical-align: middle;\n",
       "    }\n",
       "\n",
       "    .dataframe tbody tr th {\n",
       "        vertical-align: top;\n",
       "    }\n",
       "\n",
       "    .dataframe thead th {\n",
       "        text-align: right;\n",
       "    }\n",
       "</style>\n",
       "<table border=\"1\" class=\"dataframe\">\n",
       "  <thead>\n",
       "    <tr style=\"text-align: right;\">\n",
       "      <th></th>\n",
       "      <th>EMPLOYEE_ID</th>\n",
       "      <th>FIRST_NAME</th>\n",
       "      <th>HIRE_DATE</th>\n",
       "      <th>NAM_VAO_LAM</th>\n",
       "    </tr>\n",
       "  </thead>\n",
       "  <tbody>\n",
       "    <tr>\n",
       "      <th>0</th>\n",
       "      <td>100</td>\n",
       "      <td>Steven</td>\n",
       "      <td>2003-06-17 00:00:00</td>\n",
       "      <td>2003</td>\n",
       "    </tr>\n",
       "    <tr>\n",
       "      <th>1</th>\n",
       "      <td>101</td>\n",
       "      <td>Neena</td>\n",
       "      <td>2005-09-21 00:00:00</td>\n",
       "      <td>2005</td>\n",
       "    </tr>\n",
       "    <tr>\n",
       "      <th>2</th>\n",
       "      <td>102</td>\n",
       "      <td>Lex</td>\n",
       "      <td>2001-01-13 00:00:00</td>\n",
       "      <td>2001</td>\n",
       "    </tr>\n",
       "    <tr>\n",
       "      <th>3</th>\n",
       "      <td>103</td>\n",
       "      <td>Alexander</td>\n",
       "      <td>2006-01-03 00:00:00</td>\n",
       "      <td>2006</td>\n",
       "    </tr>\n",
       "    <tr>\n",
       "      <th>4</th>\n",
       "      <td>104</td>\n",
       "      <td>Bruce</td>\n",
       "      <td>2007-05-21 00:00:00</td>\n",
       "      <td>2007</td>\n",
       "    </tr>\n",
       "  </tbody>\n",
       "</table>\n",
       "</div>"
      ],
      "text/plain": [
       "   EMPLOYEE_ID FIRST_NAME            HIRE_DATE  NAM_VAO_LAM\n",
       "0          100     Steven  2003-06-17 00:00:00         2003\n",
       "1          101      Neena  2005-09-21 00:00:00         2005\n",
       "2          102        Lex  2001-01-13 00:00:00         2001\n",
       "3          103  Alexander  2006-01-03 00:00:00         2006\n",
       "4          104      Bruce  2007-05-21 00:00:00         2007"
      ]
     },
     "execution_count": 33,
     "metadata": {},
     "output_type": "execute_result"
    }
   ],
   "source": [
    "emp[['EMPLOYEE_ID','FIRST_NAME','HIRE_DATE','NAM_VAO_LAM']].head()"
   ]
  },
  {
   "cell_type": "code",
   "execution_count": 34,
   "metadata": {},
   "outputs": [],
   "source": [
    "emp.drop(columns=['HIRE_DATE'], inplace=True)"
   ]
  },
  {
   "cell_type": "code",
   "execution_count": 35,
   "metadata": {},
   "outputs": [
    {
     "data": {
      "text/plain": [
       "Index(['EMPLOYEE_ID', 'FIRST_NAME', 'LAST_NAME', 'SALARY', 'DEPARTMENT_ID',\n",
       "       'JOB_ID', 'DEPARTMENT_NAME', 'JOB_TITLE', 'BONUS', 'NAM_VAO_LAM'],\n",
       "      dtype='object')"
      ]
     },
     "execution_count": 35,
     "metadata": {},
     "output_type": "execute_result"
    }
   ],
   "source": [
    "emp.columns"
   ]
  },
  {
   "cell_type": "code",
   "execution_count": 51,
   "metadata": {},
   "outputs": [
    {
     "data": {
      "text/html": [
       "<div>\n",
       "<style scoped>\n",
       "    .dataframe tbody tr th:only-of-type {\n",
       "        vertical-align: middle;\n",
       "    }\n",
       "\n",
       "    .dataframe tbody tr th {\n",
       "        vertical-align: top;\n",
       "    }\n",
       "\n",
       "    .dataframe thead th {\n",
       "        text-align: right;\n",
       "    }\n",
       "</style>\n",
       "<table border=\"1\" class=\"dataframe\">\n",
       "  <thead>\n",
       "    <tr style=\"text-align: right;\">\n",
       "      <th></th>\n",
       "      <th>EMPLOYEE_ID</th>\n",
       "      <th>FIRST_NAME</th>\n",
       "      <th>NAM_VAO_LAM</th>\n",
       "    </tr>\n",
       "  </thead>\n",
       "  <tbody>\n",
       "    <tr>\n",
       "      <th>0</th>\n",
       "      <td>100</td>\n",
       "      <td>Steven</td>\n",
       "      <td>2003</td>\n",
       "    </tr>\n",
       "    <tr>\n",
       "      <th>1</th>\n",
       "      <td>101</td>\n",
       "      <td>Neena</td>\n",
       "      <td>2005</td>\n",
       "    </tr>\n",
       "    <tr>\n",
       "      <th>2</th>\n",
       "      <td>102</td>\n",
       "      <td>Lex</td>\n",
       "      <td>2001</td>\n",
       "    </tr>\n",
       "    <tr>\n",
       "      <th>3</th>\n",
       "      <td>103</td>\n",
       "      <td>Alexander</td>\n",
       "      <td>2006</td>\n",
       "    </tr>\n",
       "    <tr>\n",
       "      <th>4</th>\n",
       "      <td>104</td>\n",
       "      <td>Bruce</td>\n",
       "      <td>2007</td>\n",
       "    </tr>\n",
       "  </tbody>\n",
       "</table>\n",
       "</div>"
      ],
      "text/plain": [
       "   EMPLOYEE_ID FIRST_NAME  NAM_VAO_LAM\n",
       "0          100     Steven         2003\n",
       "1          101      Neena         2005\n",
       "2          102        Lex         2001\n",
       "3          103  Alexander         2006\n",
       "4          104      Bruce         2007"
      ]
     },
     "execution_count": 51,
     "metadata": {},
     "output_type": "execute_result"
    }
   ],
   "source": [
    "emp[['EMPLOYEE_ID','FIRST_NAME','NAM_VAO_LAM']].head()"
   ]
  },
  {
   "cell_type": "code",
   "execution_count": 36,
   "metadata": {},
   "outputs": [
    {
     "data": {
      "text/html": [
       "<div>\n",
       "<style scoped>\n",
       "    .dataframe tbody tr th:only-of-type {\n",
       "        vertical-align: middle;\n",
       "    }\n",
       "\n",
       "    .dataframe tbody tr th {\n",
       "        vertical-align: top;\n",
       "    }\n",
       "\n",
       "    .dataframe thead th {\n",
       "        text-align: right;\n",
       "    }\n",
       "</style>\n",
       "<table border=\"1\" class=\"dataframe\">\n",
       "  <thead>\n",
       "    <tr style=\"text-align: right;\">\n",
       "      <th></th>\n",
       "      <th>DEPARTMENT_NAME</th>\n",
       "      <th>count</th>\n",
       "      <th>max</th>\n",
       "      <th>min</th>\n",
       "      <th>mean</th>\n",
       "      <th>sum</th>\n",
       "    </tr>\n",
       "  </thead>\n",
       "  <tbody>\n",
       "    <tr>\n",
       "      <th>0</th>\n",
       "      <td>Accounting</td>\n",
       "      <td>2</td>\n",
       "      <td>12008</td>\n",
       "      <td>8300</td>\n",
       "      <td>10154.000000</td>\n",
       "      <td>20308</td>\n",
       "    </tr>\n",
       "    <tr>\n",
       "      <th>1</th>\n",
       "      <td>Administration</td>\n",
       "      <td>1</td>\n",
       "      <td>4400</td>\n",
       "      <td>4400</td>\n",
       "      <td>4400.000000</td>\n",
       "      <td>4400</td>\n",
       "    </tr>\n",
       "    <tr>\n",
       "      <th>2</th>\n",
       "      <td>Executive</td>\n",
       "      <td>3</td>\n",
       "      <td>24000</td>\n",
       "      <td>17000</td>\n",
       "      <td>19333.333333</td>\n",
       "      <td>58000</td>\n",
       "    </tr>\n",
       "    <tr>\n",
       "      <th>3</th>\n",
       "      <td>Finance</td>\n",
       "      <td>6</td>\n",
       "      <td>12008</td>\n",
       "      <td>6900</td>\n",
       "      <td>8601.333333</td>\n",
       "      <td>51608</td>\n",
       "    </tr>\n",
       "    <tr>\n",
       "      <th>4</th>\n",
       "      <td>Human Resources</td>\n",
       "      <td>1</td>\n",
       "      <td>6500</td>\n",
       "      <td>6500</td>\n",
       "      <td>6500.000000</td>\n",
       "      <td>6500</td>\n",
       "    </tr>\n",
       "    <tr>\n",
       "      <th>5</th>\n",
       "      <td>IT</td>\n",
       "      <td>5</td>\n",
       "      <td>9000</td>\n",
       "      <td>4200</td>\n",
       "      <td>5760.000000</td>\n",
       "      <td>28800</td>\n",
       "    </tr>\n",
       "    <tr>\n",
       "      <th>6</th>\n",
       "      <td>Marketing</td>\n",
       "      <td>2</td>\n",
       "      <td>13000</td>\n",
       "      <td>6000</td>\n",
       "      <td>9500.000000</td>\n",
       "      <td>19000</td>\n",
       "    </tr>\n",
       "    <tr>\n",
       "      <th>7</th>\n",
       "      <td>Public Relations</td>\n",
       "      <td>1</td>\n",
       "      <td>10000</td>\n",
       "      <td>10000</td>\n",
       "      <td>10000.000000</td>\n",
       "      <td>10000</td>\n",
       "    </tr>\n",
       "    <tr>\n",
       "      <th>8</th>\n",
       "      <td>Purchasing</td>\n",
       "      <td>6</td>\n",
       "      <td>11000</td>\n",
       "      <td>2500</td>\n",
       "      <td>4150.000000</td>\n",
       "      <td>24900</td>\n",
       "    </tr>\n",
       "    <tr>\n",
       "      <th>9</th>\n",
       "      <td>Sales</td>\n",
       "      <td>34</td>\n",
       "      <td>14000</td>\n",
       "      <td>6100</td>\n",
       "      <td>8955.882353</td>\n",
       "      <td>304500</td>\n",
       "    </tr>\n",
       "    <tr>\n",
       "      <th>10</th>\n",
       "      <td>Shipping</td>\n",
       "      <td>45</td>\n",
       "      <td>8200</td>\n",
       "      <td>2100</td>\n",
       "      <td>3475.555556</td>\n",
       "      <td>156400</td>\n",
       "    </tr>\n",
       "  </tbody>\n",
       "</table>\n",
       "</div>"
      ],
      "text/plain": [
       "     DEPARTMENT_NAME  count    max    min          mean     sum\n",
       "0         Accounting      2  12008   8300  10154.000000   20308\n",
       "1     Administration      1   4400   4400   4400.000000    4400\n",
       "2          Executive      3  24000  17000  19333.333333   58000\n",
       "3            Finance      6  12008   6900   8601.333333   51608\n",
       "4    Human Resources      1   6500   6500   6500.000000    6500\n",
       "5                 IT      5   9000   4200   5760.000000   28800\n",
       "6          Marketing      2  13000   6000   9500.000000   19000\n",
       "7   Public Relations      1  10000  10000  10000.000000   10000\n",
       "8         Purchasing      6  11000   2500   4150.000000   24900\n",
       "9              Sales     34  14000   6100   8955.882353  304500\n",
       "10          Shipping     45   8200   2100   3475.555556  156400"
      ]
     },
     "execution_count": 36,
     "metadata": {},
     "output_type": "execute_result"
    }
   ],
   "source": [
    "emp.groupby('DEPARTMENT_NAME').SALARY.agg(['count','max','min','mean','sum']).reset_index()"
   ]
  },
  {
   "cell_type": "code",
   "execution_count": 37,
   "metadata": {},
   "outputs": [
    {
     "data": {
      "text/html": [
       "<div>\n",
       "<style scoped>\n",
       "    .dataframe tbody tr th:only-of-type {\n",
       "        vertical-align: middle;\n",
       "    }\n",
       "\n",
       "    .dataframe tbody tr th {\n",
       "        vertical-align: top;\n",
       "    }\n",
       "\n",
       "    .dataframe thead th {\n",
       "        text-align: right;\n",
       "    }\n",
       "</style>\n",
       "<table border=\"1\" class=\"dataframe\">\n",
       "  <thead>\n",
       "    <tr style=\"text-align: right;\">\n",
       "      <th></th>\n",
       "      <th>NAM_VAO_LAM</th>\n",
       "      <th>COUNT</th>\n",
       "    </tr>\n",
       "  </thead>\n",
       "  <tbody>\n",
       "    <tr>\n",
       "      <th>0</th>\n",
       "      <td>2005</td>\n",
       "      <td>29</td>\n",
       "    </tr>\n",
       "    <tr>\n",
       "      <th>1</th>\n",
       "      <td>2006</td>\n",
       "      <td>24</td>\n",
       "    </tr>\n",
       "    <tr>\n",
       "      <th>2</th>\n",
       "      <td>2007</td>\n",
       "      <td>19</td>\n",
       "    </tr>\n",
       "    <tr>\n",
       "      <th>3</th>\n",
       "      <td>2008</td>\n",
       "      <td>11</td>\n",
       "    </tr>\n",
       "    <tr>\n",
       "      <th>4</th>\n",
       "      <td>2004</td>\n",
       "      <td>10</td>\n",
       "    </tr>\n",
       "    <tr>\n",
       "      <th>5</th>\n",
       "      <td>2002</td>\n",
       "      <td>7</td>\n",
       "    </tr>\n",
       "    <tr>\n",
       "      <th>6</th>\n",
       "      <td>2003</td>\n",
       "      <td>6</td>\n",
       "    </tr>\n",
       "    <tr>\n",
       "      <th>7</th>\n",
       "      <td>2001</td>\n",
       "      <td>1</td>\n",
       "    </tr>\n",
       "  </tbody>\n",
       "</table>\n",
       "</div>"
      ],
      "text/plain": [
       "   NAM_VAO_LAM  COUNT\n",
       "0         2005     29\n",
       "1         2006     24\n",
       "2         2007     19\n",
       "3         2008     11\n",
       "4         2004     10\n",
       "5         2002      7\n",
       "6         2003      6\n",
       "7         2001      1"
      ]
     },
     "execution_count": 37,
     "metadata": {},
     "output_type": "execute_result"
    }
   ],
   "source": [
    "emp.groupby('NAM_VAO_LAM', as_index=False).EMPLOYEE_ID.count().sort_values(by='EMPLOYEE_ID',ascending=False).reset_index(drop=True).rename(columns={'EMPLOYEE_ID':'COUNT'})"
   ]
  },
  {
   "cell_type": "code",
   "execution_count": 38,
   "metadata": {},
   "outputs": [
    {
     "data": {
      "text/html": [
       "<div>\n",
       "<style scoped>\n",
       "    .dataframe tbody tr th:only-of-type {\n",
       "        vertical-align: middle;\n",
       "    }\n",
       "\n",
       "    .dataframe tbody tr th {\n",
       "        vertical-align: top;\n",
       "    }\n",
       "\n",
       "    .dataframe thead th {\n",
       "        text-align: right;\n",
       "    }\n",
       "</style>\n",
       "<table border=\"1\" class=\"dataframe\">\n",
       "  <thead>\n",
       "    <tr style=\"text-align: right;\">\n",
       "      <th></th>\n",
       "      <th>DEPARTMENT_NAME</th>\n",
       "      <th>JOB_TITLE</th>\n",
       "      <th>COUNT</th>\n",
       "    </tr>\n",
       "  </thead>\n",
       "  <tbody>\n",
       "    <tr>\n",
       "      <th>0</th>\n",
       "      <td>Accounting</td>\n",
       "      <td>Accounting Manager</td>\n",
       "      <td>1</td>\n",
       "    </tr>\n",
       "    <tr>\n",
       "      <th>1</th>\n",
       "      <td>Accounting</td>\n",
       "      <td>Public Accountant</td>\n",
       "      <td>1</td>\n",
       "    </tr>\n",
       "    <tr>\n",
       "      <th>2</th>\n",
       "      <td>Administration</td>\n",
       "      <td>Administration Assistant</td>\n",
       "      <td>1</td>\n",
       "    </tr>\n",
       "    <tr>\n",
       "      <th>3</th>\n",
       "      <td>Executive</td>\n",
       "      <td>Administration Vice President</td>\n",
       "      <td>2</td>\n",
       "    </tr>\n",
       "    <tr>\n",
       "      <th>4</th>\n",
       "      <td>Executive</td>\n",
       "      <td>President</td>\n",
       "      <td>1</td>\n",
       "    </tr>\n",
       "    <tr>\n",
       "      <th>5</th>\n",
       "      <td>Finance</td>\n",
       "      <td>Accountant</td>\n",
       "      <td>5</td>\n",
       "    </tr>\n",
       "    <tr>\n",
       "      <th>6</th>\n",
       "      <td>Finance</td>\n",
       "      <td>Finance Manager</td>\n",
       "      <td>1</td>\n",
       "    </tr>\n",
       "    <tr>\n",
       "      <th>7</th>\n",
       "      <td>Human Resources</td>\n",
       "      <td>Human Resources Representative</td>\n",
       "      <td>1</td>\n",
       "    </tr>\n",
       "    <tr>\n",
       "      <th>8</th>\n",
       "      <td>IT</td>\n",
       "      <td>Programmer</td>\n",
       "      <td>5</td>\n",
       "    </tr>\n",
       "    <tr>\n",
       "      <th>9</th>\n",
       "      <td>Marketing</td>\n",
       "      <td>Marketing Manager</td>\n",
       "      <td>1</td>\n",
       "    </tr>\n",
       "    <tr>\n",
       "      <th>10</th>\n",
       "      <td>Marketing</td>\n",
       "      <td>Marketing Representative</td>\n",
       "      <td>1</td>\n",
       "    </tr>\n",
       "    <tr>\n",
       "      <th>11</th>\n",
       "      <td>Public Relations</td>\n",
       "      <td>Public Relations Representative</td>\n",
       "      <td>1</td>\n",
       "    </tr>\n",
       "    <tr>\n",
       "      <th>12</th>\n",
       "      <td>Purchasing</td>\n",
       "      <td>Purchasing Clerk</td>\n",
       "      <td>5</td>\n",
       "    </tr>\n",
       "    <tr>\n",
       "      <th>13</th>\n",
       "      <td>Purchasing</td>\n",
       "      <td>Purchasing Manager</td>\n",
       "      <td>1</td>\n",
       "    </tr>\n",
       "    <tr>\n",
       "      <th>14</th>\n",
       "      <td>Sales</td>\n",
       "      <td>Sales Manager</td>\n",
       "      <td>5</td>\n",
       "    </tr>\n",
       "    <tr>\n",
       "      <th>15</th>\n",
       "      <td>Sales</td>\n",
       "      <td>Sales Representative</td>\n",
       "      <td>29</td>\n",
       "    </tr>\n",
       "    <tr>\n",
       "      <th>16</th>\n",
       "      <td>Shipping</td>\n",
       "      <td>Shipping Clerk</td>\n",
       "      <td>20</td>\n",
       "    </tr>\n",
       "    <tr>\n",
       "      <th>17</th>\n",
       "      <td>Shipping</td>\n",
       "      <td>Stock Clerk</td>\n",
       "      <td>20</td>\n",
       "    </tr>\n",
       "    <tr>\n",
       "      <th>18</th>\n",
       "      <td>Shipping</td>\n",
       "      <td>Stock Manager</td>\n",
       "      <td>5</td>\n",
       "    </tr>\n",
       "  </tbody>\n",
       "</table>\n",
       "</div>"
      ],
      "text/plain": [
       "     DEPARTMENT_NAME                        JOB_TITLE  COUNT\n",
       "0         Accounting               Accounting Manager      1\n",
       "1         Accounting                Public Accountant      1\n",
       "2     Administration         Administration Assistant      1\n",
       "3          Executive    Administration Vice President      2\n",
       "4          Executive                        President      1\n",
       "5            Finance                       Accountant      5\n",
       "6            Finance                  Finance Manager      1\n",
       "7    Human Resources   Human Resources Representative      1\n",
       "8                 IT                       Programmer      5\n",
       "9          Marketing                Marketing Manager      1\n",
       "10         Marketing         Marketing Representative      1\n",
       "11  Public Relations  Public Relations Representative      1\n",
       "12        Purchasing                 Purchasing Clerk      5\n",
       "13        Purchasing               Purchasing Manager      1\n",
       "14             Sales                    Sales Manager      5\n",
       "15             Sales             Sales Representative     29\n",
       "16          Shipping                   Shipping Clerk     20\n",
       "17          Shipping                      Stock Clerk     20\n",
       "18          Shipping                    Stock Manager      5"
      ]
     },
     "execution_count": 38,
     "metadata": {},
     "output_type": "execute_result"
    }
   ],
   "source": [
    "emp.groupby(['DEPARTMENT_NAME','JOB_TITLE'], as_index=False).EMPLOYEE_ID.count().rename(columns={'EMPLOYEE_ID':'COUNT'})"
   ]
  },
  {
   "cell_type": "code",
   "execution_count": 44,
   "metadata": {},
   "outputs": [
    {
     "data": {
      "image/png": "[encoded data removed]",
      "text/plain": [
       "<Figure size 720x432 with 1 Axes>"
      ]
     },
     "metadata": {
      "needs_background": "light"
     },
     "output_type": "display_data"
    }
   ],
   "source": [
    "plt.figure(figsize=(10,6))\n",
    "sb.countplot(x='DEPARTMENT_NAME', data=emp)\n",
    "plt.xticks(rotation=70) \n",
    "plt.xlabel('Department Name') \n",
    "plt.ylabel('Count of Employees') \n",
    "plt.title('Count of Employees per Department Name') \n",
    "plt.grid()\n",
    "plt.show()"
   ]
  },
  {
   "cell_type": "code",
   "execution_count": 40,
   "metadata": {},
   "outputs": [
    {
     "data": {
      "text/plain": [
       "<matplotlib.axes._subplots.AxesSubplot at 0x13b2a510>"
      ]
     },
     "execution_count": 40,
     "metadata": {},
     "output_type": "execute_result"
    },
    {
     "data": {
      "image/png": "[encoded data removed]",
      "text/plain": [
       "<Figure size 432x288 with 1 Axes>"
      ]
     },
     "metadata": {
      "needs_background": "light"
     },
     "output_type": "display_data"
    }
   ],
   "source": [
    "sb.boxplot(x=emp['SALARY'])"
   ]
  },
  {
   "cell_type": "code",
   "execution_count": 68,
   "metadata": {},
   "outputs": [
    {
     "data": {
      "text/plain": [
       "<matplotlib.axes._subplots.AxesSubplot at 0x264a9567780>"
      ]
     },
     "execution_count": 68,
     "metadata": {},
     "output_type": "execute_result"
    },
    {
     "data": {
      "image/png": "[encoded data removed]",
      "text/plain": [
       "<Figure size 720x432 with 1 Axes>"
      ]
     },
     "metadata": {
      "needs_background": "light"
     },
     "output_type": "display_data"
    }
   ],
   "source": [
    "plt.figure(figsize=(10,6))\n",
    "sb.boxplot(y=\"DEPARTMENT_NAME\", x=\"SALARY\", data=emp)"
   ]
  },
  {
   "cell_type": "code",
   "execution_count": 45,
   "metadata": {},
   "outputs": [
    {
     "data": {
      "text/plain": [
       "<matplotlib.axes._subplots.AxesSubplot at 0x264a6ca8630>"
      ]
     },
     "execution_count": 45,
     "metadata": {},
     "output_type": "execute_result"
    },
    {
     "data": {
      "image/png": "[encoded data removed]",
      "text/plain": [
       "<Figure size 432x288 with 1 Axes>"
      ]
     },
     "metadata": {
      "needs_background": "light"
     },
     "output_type": "display_data"
    }
   ],
   "source": [
    "sb.barplot(y='DEPARTMENT_NAME', x='SALARY', data=emp.groupby('DEPARTMENT_NAME',as_index=False).SALARY.sum().sort_values(by='SALARY', ascending=False))"
   ]
  },
  {
   "cell_type": "code",
   "execution_count": 46,
   "metadata": {},
   "outputs": [],
   "source": [
    "df = emp.groupby('NAM_VAO_LAM', as_index=False).EMPLOYEE_ID.count().sort_values(by='EMPLOYEE_ID',ascending=False).reset_index(drop=True).rename(columns={'EMPLOYEE_ID':'COUNT'})"
   ]
  },
  {
   "cell_type": "code",
   "execution_count": 47,
   "metadata": {},
   "outputs": [
    {
     "data": {
      "text/html": [
       "<div>\n",
       "<style scoped>\n",
       "    .dataframe tbody tr th:only-of-type {\n",
       "        vertical-align: middle;\n",
       "    }\n",
       "\n",
       "    .dataframe tbody tr th {\n",
       "        vertical-align: top;\n",
       "    }\n",
       "\n",
       "    .dataframe thead th {\n",
       "        text-align: right;\n",
       "    }\n",
       "</style>\n",
       "<table border=\"1\" class=\"dataframe\">\n",
       "  <thead>\n",
       "    <tr style=\"text-align: right;\">\n",
       "      <th></th>\n",
       "      <th>NAM_VAO_LAM</th>\n",
       "      <th>COUNT</th>\n",
       "    </tr>\n",
       "  </thead>\n",
       "  <tbody>\n",
       "    <tr>\n",
       "      <th>0</th>\n",
       "      <td>2005</td>\n",
       "      <td>29</td>\n",
       "    </tr>\n",
       "    <tr>\n",
       "      <th>1</th>\n",
       "      <td>2006</td>\n",
       "      <td>24</td>\n",
       "    </tr>\n",
       "    <tr>\n",
       "      <th>2</th>\n",
       "      <td>2007</td>\n",
       "      <td>19</td>\n",
       "    </tr>\n",
       "    <tr>\n",
       "      <th>3</th>\n",
       "      <td>2008</td>\n",
       "      <td>11</td>\n",
       "    </tr>\n",
       "    <tr>\n",
       "      <th>4</th>\n",
       "      <td>2004</td>\n",
       "      <td>10</td>\n",
       "    </tr>\n",
       "    <tr>\n",
       "      <th>5</th>\n",
       "      <td>2002</td>\n",
       "      <td>7</td>\n",
       "    </tr>\n",
       "    <tr>\n",
       "      <th>6</th>\n",
       "      <td>2003</td>\n",
       "      <td>6</td>\n",
       "    </tr>\n",
       "    <tr>\n",
       "      <th>7</th>\n",
       "      <td>2001</td>\n",
       "      <td>1</td>\n",
       "    </tr>\n",
       "  </tbody>\n",
       "</table>\n",
       "</div>"
      ],
      "text/plain": [
       "   NAM_VAO_LAM  COUNT\n",
       "0         2005     29\n",
       "1         2006     24\n",
       "2         2007     19\n",
       "3         2008     11\n",
       "4         2004     10\n",
       "5         2002      7\n",
       "6         2003      6\n",
       "7         2001      1"
      ]
     },
     "execution_count": 47,
     "metadata": {},
     "output_type": "execute_result"
    }
   ],
   "source": [
    "df"
   ]
  },
  {
   "cell_type": "code",
   "execution_count": 48,
   "metadata": {},
   "outputs": [
    {
     "data": {
      "text/plain": [
       "<matplotlib.axes._subplots.AxesSubplot at 0x13cf87b0>"
      ]
     },
     "execution_count": 48,
     "metadata": {},
     "output_type": "execute_result"
    },
    {
     "data": {
      "image/png": "[encoded data removed]",
      "text/plain": [
       "<Figure size 432x288 with 1 Axes>"
      ]
     },
     "metadata": {
      "needs_background": "light"
     },
     "output_type": "display_data"
    }
   ],
   "source": [
    "sb.barplot(x='NAM_VAO_LAM', y='COUNT', data=df)"
   ]
  },
  {
   "cell_type": "code",
   "execution_count": 49,
   "metadata": {},
   "outputs": [
    {
     "data": {
      "text/html": [
       "<div>\n",
       "<style scoped>\n",
       "    .dataframe tbody tr th:only-of-type {\n",
       "        vertical-align: middle;\n",
       "    }\n",
       "\n",
       "    .dataframe tbody tr th {\n",
       "        vertical-align: top;\n",
       "    }\n",
       "\n",
       "    .dataframe thead th {\n",
       "        text-align: right;\n",
       "    }\n",
       "</style>\n",
       "<table border=\"1\" class=\"dataframe\">\n",
       "  <thead>\n",
       "    <tr style=\"text-align: right;\">\n",
       "      <th></th>\n",
       "      <th>DEPARTMENT_NAME</th>\n",
       "      <th>SALARY</th>\n",
       "    </tr>\n",
       "  </thead>\n",
       "  <tbody>\n",
       "    <tr>\n",
       "      <th>0</th>\n",
       "      <td>Sales</td>\n",
       "      <td>304500</td>\n",
       "    </tr>\n",
       "    <tr>\n",
       "      <th>1</th>\n",
       "      <td>Shipping</td>\n",
       "      <td>156400</td>\n",
       "    </tr>\n",
       "  </tbody>\n",
       "</table>\n",
       "</div>"
      ],
      "text/plain": [
       "  DEPARTMENT_NAME  SALARY\n",
       "0           Sales  304500\n",
       "1        Shipping  156400"
      ]
     },
     "execution_count": 49,
     "metadata": {},
     "output_type": "execute_result"
    }
   ],
   "source": [
    "df = emp[(emp['DEPARTMENT_ID']==50) | (emp['DEPARTMENT_ID']==80)].groupby('DEPARTMENT_NAME', as_index=False).SALARY.sum()\n",
    "df"
   ]
  },
  {
   "cell_type": "code",
   "execution_count": 62,
   "metadata": {},
   "outputs": [
    {
     "data": {
      "text/html": [
       "<div>\n",
       "<style scoped>\n",
       "    .dataframe tbody tr th:only-of-type {\n",
       "        vertical-align: middle;\n",
       "    }\n",
       "\n",
       "    .dataframe tbody tr th {\n",
       "        vertical-align: top;\n",
       "    }\n",
       "\n",
       "    .dataframe thead th {\n",
       "        text-align: right;\n",
       "    }\n",
       "</style>\n",
       "<table border=\"1\" class=\"dataframe\">\n",
       "  <thead>\n",
       "    <tr style=\"text-align: right;\">\n",
       "      <th></th>\n",
       "      <th>index</th>\n",
       "      <th>DEPARTMENT_NAME</th>\n",
       "    </tr>\n",
       "  </thead>\n",
       "  <tbody>\n",
       "    <tr>\n",
       "      <th>0</th>\n",
       "      <td>Shipping</td>\n",
       "      <td>45</td>\n",
       "    </tr>\n",
       "    <tr>\n",
       "      <th>1</th>\n",
       "      <td>Sales</td>\n",
       "      <td>34</td>\n",
       "    </tr>\n",
       "    <tr>\n",
       "      <th>2</th>\n",
       "      <td>Purchasing</td>\n",
       "      <td>6</td>\n",
       "    </tr>\n",
       "    <tr>\n",
       "      <th>3</th>\n",
       "      <td>Finance</td>\n",
       "      <td>6</td>\n",
       "    </tr>\n",
       "    <tr>\n",
       "      <th>4</th>\n",
       "      <td>IT</td>\n",
       "      <td>5</td>\n",
       "    </tr>\n",
       "  </tbody>\n",
       "</table>\n",
       "</div>"
      ],
      "text/plain": [
       "        index  DEPARTMENT_NAME\n",
       "0    Shipping               45\n",
       "1       Sales               34\n",
       "2  Purchasing                6\n",
       "3     Finance                6\n",
       "4          IT                5"
      ]
     },
     "execution_count": 62,
     "metadata": {},
     "output_type": "execute_result"
    }
   ],
   "source": [
    "df_ = emp['DEPARTMENT_NAME'].value_counts().reset_index().head()\n",
    "df_"
   ]
  },
  {
   "cell_type": "code",
   "execution_count": 67,
   "metadata": {},
   "outputs": [
    {
     "data": {
      "image/png": "[encoded data removed]",
      "text/plain": [
       "<Figure size 1080x720 with 5 Axes>"
      ]
     },
     "metadata": {
      "needs_background": "light"
     },
     "output_type": "display_data"
    }
   ],
   "source": [
    "sb.catplot(data=emp[emp['DEPARTMENT_NAME'].isin(df_['index'])], y='SALARY', kind='box', col='DEPARTMENT_NAME', col_wrap=3);"
   ]
  },
  {
   "cell_type": "code",
   "execution_count": null,
   "metadata": {},
   "outputs": [],
   "source": []
  }
 ],
 "metadata": {
  "kernelspec": {
   "display_name": "Python 3",
   "language": "python",
   "name": "python3"
  },
  "language_info": {
   "codemirror_mode": {
    "name": "ipython",
    "version": 3
   },
   "file_extension": ".py",
   "mimetype": "text/x-python",
   "name": "python",
   "nbconvert_exporter": "python",
   "pygments_lexer": "ipython3",
   "version": "3.6.8"
  }
 },
 "nbformat": 4,
 "nbformat_minor": 2
}
