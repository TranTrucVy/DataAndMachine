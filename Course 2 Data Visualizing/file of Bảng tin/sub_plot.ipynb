{
 "cells": [
  {
   "cell_type": "code",
   "execution_count": null,
   "metadata": {},
   "outputs": [],
   "source": [
    "import numpy as np\n",
    "import pandas as pd\n",
    "import matplotlib.pyplot as plt"
   ]
  },
  {
   "cell_type": "code",
   "execution_count": null,
   "metadata": {},
   "outputs": [],
   "source": [
    "fig, axarr = plt.subplots(2, 1) # 2 dong, 1 cot"
   ]
  },
  {
   "cell_type": "code",
   "execution_count": null,
   "metadata": {},
   "outputs": [],
   "source": [
    "fig, axarr = plt.subplots(1, 2) # 1 dong, 2 cot"
   ]
  },
  {
   "cell_type": "code",
   "execution_count": null,
   "metadata": {},
   "outputs": [],
   "source": [
    "fig, axarr = plt.subplots(2, 2, figsize=(10, 6)) # 2 dong, 2 cot"
   ]
  },
  {
   "cell_type": "code",
   "execution_count": null,
   "metadata": {},
   "outputs": [],
   "source": [
    "year = [1950, 1951, 1952, 1953, 1954]\n",
    "pop = [2.53, 2.57, 2.62, 2.67, 2.71]"
   ]
  },
  {
   "cell_type": "code",
   "execution_count": null,
   "metadata": {},
   "outputs": [],
   "source": [
    "fig, axarr = plt.subplots(1, 2, figsize=(7, 4))\n",
    "axarr[0].bar(year, pop)\n",
    "axarr[1].boxplot(pop)\n",
    "\n",
    "axarr[0].set_xlabel('Year')\n",
    "axarr[0].set_ylabel('Population')\n",
    "axarr[0].set_title('1st chart')\n",
    "    \n",
    "axarr[1].axes.xaxis.set_ticks([])\n",
    "axarr[1].set_xlabel('Population')\n",
    "axarr[1].set_title('2st chart')\n",
    "axarr[1].grid()\n",
    "\n",
    "fig.suptitle('Population of Years', y=1.05)\n",
    "fig.tight_layout()\n",
    "plt.show()"
   ]
  },
  {
   "cell_type": "code",
   "execution_count": null,
   "metadata": {},
   "outputs": [],
   "source": [
    "girls_grades = [89, 90, 70, 89, 100, 80, 90, 100, 80, 34]\n",
    "boys_grades = [30, 29, 49, 48, 100, 48, 38, 45, 20, 30]\n",
    "grades_range = [10, 20, 30, 40, 50, 60, 70, 80, 90, 100]"
   ]
  },
  {
   "cell_type": "code",
   "execution_count": null,
   "metadata": {},
   "outputs": [],
   "source": [
    "plt.scatter(grades_range, girls_grades, color='r', label='Girls')\n",
    "plt.scatter(grades_range, boys_grades, color='b', label='Boys')\n",
    "plt.show()"
   ]
  },
  {
   "cell_type": "code",
   "execution_count": null,
   "metadata": {},
   "outputs": [],
   "source": [
    "fig, axarr = plt.subplots(1, 2, figsize=(7, 4), sharey=True) # su dung chung truc x\n",
    "axarr[0].scatter(grades_range, girls_grades, color='r', label='Girls')\n",
    "axarr[1].scatter(grades_range, boys_grades, color='b', label='Boys')\n",
    "\n",
    "axarr[0].set_title('Scored Girls')\n",
    "axarr[1].set_title('Scored Boys')\n",
    "axarr[0].set_xlabel('Grades Range')\n",
    "axarr[0].set_ylabel('Grades Scored')\n",
    "fig.suptitle('Scored Players')\n",
    "plt.show()"
   ]
  },
  {
   "cell_type": "code",
   "execution_count": null,
   "metadata": {},
   "outputs": [],
   "source": [
    "# pandas plot với subplot\n",
    "reviews = pd.read_csv(\"winemag-data_first150k.csv\", index_col=0)\n",
    "reviews.head()\n",
    "# country: quốc gia\n",
    "# description: mô tả\n",
    "# designation: chỉ định\n",
    "# points: điểm số\n",
    "# price: đơn giá\n",
    "# province: thành phố/ tỉnh\n",
    "# region_1, region_2: khu vực\n",
    "# variety: loại rượu\n",
    "# winery: nhà máy rượu"
   ]
  },
  {
   "cell_type": "code",
   "execution_count": null,
   "metadata": {},
   "outputs": [],
   "source": [
    "reviews.shape"
   ]
  },
  {
   "cell_type": "code",
   "execution_count": null,
   "metadata": {},
   "outputs": [],
   "source": [
    "reviews['points'].value_counts()"
   ]
  },
  {
   "cell_type": "code",
   "execution_count": null,
   "metadata": {},
   "outputs": [],
   "source": [
    "# pandas plot\n",
    "reviews['points'].value_counts().sort_index().plot.bar();"
   ]
  },
  {
   "cell_type": "code",
   "execution_count": null,
   "metadata": {},
   "outputs": [],
   "source": [
    "# pandas plot\n",
    "reviews['province'].value_counts().head(20).plot.bar(); # top 20 cac thanh pho san xuat ruou"
   ]
  },
  {
   "cell_type": "code",
   "execution_count": null,
   "metadata": {},
   "outputs": [],
   "source": [
    "# ve pandas ket hop voi subplot\n",
    "fig, axarr = plt.subplots(2, 1, figsize=(10, 7))\n",
    "reviews['points'].value_counts().sort_index().plot.bar(ax=axarr[0], color='mediumvioletred')\n",
    "reviews['province'].value_counts().head(20).plot.bar(ax=axarr[1], color='mediumvioletred')\n",
    "\n",
    "axarr[0].set_xticklabels(reviews['points'].value_counts().sort_index().index, rotation=0, ha='right')\n",
    "axarr[1].set_xticklabels(reviews['province'].value_counts().head(20).index, rotation=30, ha='right')\n",
    "plt.show()"
   ]
  },
  {
   "cell_type": "code",
   "execution_count": null,
   "metadata": {},
   "outputs": [],
   "source": []
  }
 ],
 "metadata": {
  "kernelspec": {
   "display_name": "Python 3",
   "language": "python",
   "name": "python3"
  },
  "language_info": {
   "codemirror_mode": {
    "name": "ipython",
    "version": 3
   },
   "file_extension": ".py",
   "mimetype": "text/x-python",
   "name": "python",
   "nbconvert_exporter": "python",
   "pygments_lexer": "ipython3",
   "version": "3.9.2"
  }
 },
 "nbformat": 4,
 "nbformat_minor": 2
}
